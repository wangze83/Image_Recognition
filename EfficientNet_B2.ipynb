{
 "cells": [
  {
   "cell_type": "code",
   "execution_count": 245,
   "id": "93a0c62a",
   "metadata": {
    "pycharm": {
     "name": "#%%\n"
    }
   },
   "outputs": [],
   "source": [
    "from keras import optimizers\n",
    "import tensorflow as tf\n",
    "import efficientnet.tfkeras as efn\n",
    "from keras.models import Model, load_model\n",
    "from keras.layers import Dense, GlobalAveragePooling2D, Dropout\n",
    "from keras.preprocessing.image import ImageDataGenerator\n",
    "from keras.callbacks import ModelCheckpoint\n",
    "from keras.callbacks import TensorBoard"
   ]
  },
  {
   "cell_type": "code",
   "execution_count": 246,
   "id": "cbf81241",
   "metadata": {
    "pycharm": {
     "name": "#%%\n"
    }
   },
   "outputs": [],
   "source": [
    "# 0 : VGG16\n",
    "# 1 : ResNet50\n",
    "# 2 : EfficientNet_B2\n",
    "CNN_name = ['VGG16', 'ResNet50', 'EfficientNet_B2']"
   ]
  },
  {
   "cell_type": "code",
   "execution_count": 247,
   "id": "90034a4c",
   "metadata": {
    "pycharm": {
     "name": "#%%\n"
    }
   },
   "outputs": [],
   "source": [
    "CNN_Serial_number = 2"
   ]
  },
  {
   "cell_type": "code",
   "execution_count": 248,
   "id": "0426cd97",
   "metadata": {
    "pycharm": {
     "name": "#%%\n"
    }
   },
   "outputs": [],
   "source": [
    "# NB_CLASSL: number of classes\n",
    "NB_CLASS = 5"
   ]
  },
  {
   "cell_type": "code",
   "execution_count": 249,
   "id": "f9358bc5",
   "metadata": {
    "pycharm": {
     "name": "#%%\n"
    }
   },
   "outputs": [],
   "source": [
    "# Whether to perform data augmentation. 0 does not extend data. 1 Extended data\n",
    "augmentation_name = ['No_Aug', 'Aug']\n",
    "augmentation = 0"
   ]
  },
  {
   "cell_type": "code",
   "execution_count": 251,
   "id": "c86e4d95",
   "metadata": {
    "pycharm": {
     "name": "#%%\n"
    }
   },
   "outputs": [],
   "source": [
    "# According to the machine memory\n",
    "batch_size = 32"
   ]
  },
  {
   "cell_type": "code",
   "execution_count": 252,
   "id": "6f0f532f",
   "metadata": {
    "pycharm": {
     "name": "#%%\n"
    }
   },
   "outputs": [],
   "source": [
    "# Total training rounds\n",
    "EPOCH = 25"
   ]
  },
  {
   "cell_type": "code",
   "execution_count": 253,
   "id": "df6fc0f3",
   "metadata": {
    "pycharm": {
     "name": "#%%\n"
    }
   },
   "outputs": [],
   "source": [
    "IMG_WIDTH = 224\n",
    "IMG_HEIGHT = 224"
   ]
  },
  {
   "cell_type": "code",
   "execution_count": 254,
   "id": "9d5f7e88",
   "metadata": {
    "pycharm": {
     "name": "#%%\n"
    }
   },
   "outputs": [],
   "source": [
    "train_root = './dataset-Simpsons_Main_Characters/train_images/'\n",
    "validation_root = './dataset-Simpsons_Main_Characters/test_images/'"
   ]
  },
  {
   "cell_type": "code",
   "execution_count": 255,
   "id": "2892f356",
   "metadata": {
    "pycharm": {
     "name": "#%%\n"
    }
   },
   "outputs": [],
   "source": [
    "# log display level\n",
    "verbose = 1"
   ]
  },
  {
   "cell_type": "code",
   "execution_count": 256,
   "id": "176eba4d",
   "metadata": {
    "pycharm": {
     "name": "#%%\n"
    }
   },
   "outputs": [],
   "source": [
    "# loss function\n",
    "loss = tf.keras.losses.categorical_crossentropy"
   ]
  },
  {
   "cell_type": "code",
   "execution_count": 257,
   "id": "632eb209",
   "metadata": {
    "pycharm": {
     "name": "#%%\n"
    }
   },
   "outputs": [],
   "source": [
    "# optimize function\n",
    "# RMSprop\n",
    "# optimizer = optimizers.RMSprop(learning_rate=0.001, rho=0.9, epsilon=None, decay=0.0)\n",
    "\n",
    "# Adam\n",
    "# optimizer = optimizers.adam.Adam(learning_rate=0.001, beta_1=0.9, beta_2 = 0.999, epsilon=None, amsgrad = False)\n",
    "optimizer = tf.keras.optimizers.Adam(learning_rate=1e-5)"
   ]
  },
  {
   "cell_type": "code",
   "execution_count": 258,
   "id": "9601a07e",
   "metadata": {
    "pycharm": {
     "name": "#%%\n"
    }
   },
   "outputs": [],
   "source": [
    "# Data processing\n",
    "My_ImageDatagenerator = ImageDataGenerator(\n",
    "    width_shift_range=0.1, \n",
    "    height_shift_range=0.1,\n",
    "    shear_range=0.1,\n",
    "    zoom_range=0.1,\n",
    "    horizontal_flip=True,\n",
    "    rescale=1. / 255,\n",
    ")"
   ]
  },
  {
   "cell_type": "code",
   "execution_count": 259,
   "id": "734cf141",
   "metadata": {
    "pycharm": {
     "name": "#%%\n"
    }
   },
   "outputs": [
    {
     "name": "stdout",
     "output_type": "stream",
     "text": [
      "Found 6936 images belonging to 5 classes.\n",
      "Found 404 images belonging to 5 classes.\n"
     ]
    }
   ],
   "source": [
    "train_generator = My_ImageDatagenerator.flow_from_directory(\n",
    "    train_root,\n",
    "    target_size=(IMG_WIDTH, IMG_HEIGHT),\n",
    "    batch_size=batch_size,\n",
    "    shuffle=True\n",
    ")\n",
    "valid_generator = My_ImageDatagenerator.flow_from_directory(\n",
    "    validation_root,\n",
    "    target_size=(IMG_WIDTH, IMG_HEIGHT),\n",
    "    batch_size=batch_size,\n",
    ")"
   ]
  },
  {
   "cell_type": "code",
   "execution_count": 260,
   "id": "54be1dc7",
   "metadata": {
    "pycharm": {
     "name": "#%%\n"
    }
   },
   "outputs": [],
   "source": [
    "import keras.applications as cnn_model\n",
    "if CNN_Serial_number == 0:\n",
    "    base_model = cnn_model.vgg16.VGG16(weights='./pretrained/vgg16_weights_tf_dim_ordering_tf_kernels_notop.h5', include_top=False)\n",
    "elif CNN_Serial_number == 1:\n",
    "    base_model = cnn_model.resnet.ResNet50(weights='./pretrained/resnet50_weights_tf_dim_ordering_tf_kernels_notop.h5', include_top=False)\n",
    "elif CNN_Serial_number == 2:\n",
    "    base_model = efn.EfficientNetB2(weights='./pretrained/efficientnet-b2_weights_tf_dim_ordering_tf_kernels_autoaugment_notop.h5', include_top=False)\n",
    "    \n",
    "    \n",
    "    "
   ]
  },
  {
   "cell_type": "code",
   "execution_count": 261,
   "id": "c1653dc0",
   "metadata": {
    "pycharm": {
     "name": "#%%\n"
    }
   },
   "outputs": [],
   "source": [
    "#Add global average pooling layer\n",
    "x = base_model.output\n",
    "x = GlobalAveragePooling2D()(x)\n"
   ]
  },
  {
   "cell_type": "code",
   "execution_count": 262,
   "id": "06872ed8",
   "metadata": {
    "pycharm": {
     "name": "#%%\n"
    }
   },
   "outputs": [],
   "source": [
    "# add a fully connected layer\n",
    "x = Dense(256, activation='relu')(x)"
   ]
  },
  {
   "cell_type": "code",
   "execution_count": 263,
   "id": "b15f2499",
   "metadata": {
    "pycharm": {
     "name": "#%%\n"
    }
   },
   "outputs": [],
   "source": [
    "# add a classifier\n",
    "predictions = Dense(NB_CLASS, activation='softmax')(x)"
   ]
  },
  {
   "cell_type": "code",
   "execution_count": 264,
   "id": "3038c86a",
   "metadata": {
    "pycharm": {
     "name": "#%%\n"
    }
   },
   "outputs": [],
   "source": [
    "#Build the complete model we need to train\n",
    "\n",
    "model = Model(inputs=base_model.input, outputs=predictions)"
   ]
  },
  {
   "cell_type": "code",
   "execution_count": 265,
   "id": "05d5cf2f",
   "metadata": {
    "pycharm": {
     "name": "#%%\n"
    }
   },
   "outputs": [],
   "source": [
    "# Migration learning, only train the last 10 layers\n",
    "for layer in model.layers:\n",
    "    layer.trainable = False\n",
    "for i in range(-10, 0):\n",
    "    model.layers[i].trainable = True"
   ]
  },
  {
   "cell_type": "code",
   "execution_count": 266,
   "id": "9d895566",
   "metadata": {
    "pycharm": {
     "name": "#%%\n"
    }
   },
   "outputs": [],
   "source": [
    "from keras import metrics"
   ]
  },
  {
   "cell_type": "code",
   "execution_count": 267,
   "id": "4b0cc6ee",
   "metadata": {
    "pycharm": {
     "name": "#%%\n"
    }
   },
   "outputs": [],
   "source": [
    "# Compile the model\n",
    "model.compile(optimizer=optimizer, loss=loss, metrics=['acc', metrics.Precision(), metrics.Recall()])"
   ]
  },
  {
   "cell_type": "code",
   "execution_count": 268,
   "id": "3103c1b8",
   "metadata": {
    "pycharm": {
     "name": "#%%\n"
    }
   },
   "outputs": [
    {
     "name": "stdout",
     "output_type": "stream",
     "text": [
      "Model: \"model_2\"\n",
      "__________________________________________________________________________________________________\n",
      " Layer (type)                   Output Shape         Param #     Connected to                     \n",
      "==================================================================================================\n",
      " input_9 (InputLayer)           [(None, None, None,  0           []                               \n",
      "                                 3)]                                                              \n",
      "                                                                                                  \n",
      " stem_conv (Conv2D)             (None, None, None,   864         ['input_9[0][0]']                \n",
      "                                32)                                                               \n",
      "                                                                                                  \n",
      " stem_bn (BatchNormalization)   (None, None, None,   128         ['stem_conv[0][0]']              \n",
      "                                32)                                                               \n",
      "                                                                                                  \n",
      " stem_activation (Activation)   (None, None, None,   0           ['stem_bn[0][0]']                \n",
      "                                32)                                                               \n",
      "                                                                                                  \n",
      " block1a_dwconv (DepthwiseConv2  (None, None, None,   288        ['stem_activation[0][0]']        \n",
      " D)                             32)                                                               \n",
      "                                                                                                  \n",
      " block1a_bn (BatchNormalization  (None, None, None,   128        ['block1a_dwconv[0][0]']         \n",
      " )                              32)                                                               \n",
      "                                                                                                  \n",
      " block1a_activation (Activation  (None, None, None,   0          ['block1a_bn[0][0]']             \n",
      " )                              32)                                                               \n",
      "                                                                                                  \n",
      " block1a_se_squeeze (GlobalAver  (None, 32)          0           ['block1a_activation[0][0]']     \n",
      " agePooling2D)                                                                                    \n",
      "                                                                                                  \n",
      " block1a_se_reshape (Reshape)   (None, 1, 1, 32)     0           ['block1a_se_squeeze[0][0]']     \n",
      "                                                                                                  \n",
      " block1a_se_reduce (Conv2D)     (None, 1, 1, 8)      264         ['block1a_se_reshape[0][0]']     \n",
      "                                                                                                  \n",
      " block1a_se_expand (Conv2D)     (None, 1, 1, 32)     288         ['block1a_se_reduce[0][0]']      \n",
      "                                                                                                  \n",
      " block1a_se_excite (Multiply)   (None, None, None,   0           ['block1a_activation[0][0]',     \n",
      "                                32)                               'block1a_se_expand[0][0]']      \n",
      "                                                                                                  \n",
      " block1a_project_conv (Conv2D)  (None, None, None,   512         ['block1a_se_excite[0][0]']      \n",
      "                                16)                                                               \n",
      "                                                                                                  \n",
      " block1a_project_bn (BatchNorma  (None, None, None,   64         ['block1a_project_conv[0][0]']   \n",
      " lization)                      16)                                                               \n",
      "                                                                                                  \n",
      " block1b_dwconv (DepthwiseConv2  (None, None, None,   144        ['block1a_project_bn[0][0]']     \n",
      " D)                             16)                                                               \n",
      "                                                                                                  \n",
      " block1b_bn (BatchNormalization  (None, None, None,   64         ['block1b_dwconv[0][0]']         \n",
      " )                              16)                                                               \n",
      "                                                                                                  \n",
      " block1b_activation (Activation  (None, None, None,   0          ['block1b_bn[0][0]']             \n",
      " )                              16)                                                               \n",
      "                                                                                                  \n",
      " block1b_se_squeeze (GlobalAver  (None, 16)          0           ['block1b_activation[0][0]']     \n",
      " agePooling2D)                                                                                    \n",
      "                                                                                                  \n",
      " block1b_se_reshape (Reshape)   (None, 1, 1, 16)     0           ['block1b_se_squeeze[0][0]']     \n",
      "                                                                                                  \n",
      " block1b_se_reduce (Conv2D)     (None, 1, 1, 4)      68          ['block1b_se_reshape[0][0]']     \n",
      "                                                                                                  \n",
      " block1b_se_expand (Conv2D)     (None, 1, 1, 16)     80          ['block1b_se_reduce[0][0]']      \n",
      "                                                                                                  \n",
      " block1b_se_excite (Multiply)   (None, None, None,   0           ['block1b_activation[0][0]',     \n",
      "                                16)                               'block1b_se_expand[0][0]']      \n",
      "                                                                                                  \n",
      " block1b_project_conv (Conv2D)  (None, None, None,   256         ['block1b_se_excite[0][0]']      \n",
      "                                16)                                                               \n",
      "                                                                                                  \n",
      " block1b_project_bn (BatchNorma  (None, None, None,   64         ['block1b_project_conv[0][0]']   \n",
      " lization)                      16)                                                               \n",
      "                                                                                                  \n",
      " block1b_drop (FixedDropout)    (None, None, None,   0           ['block1b_project_bn[0][0]']     \n",
      "                                16)                                                               \n",
      "                                                                                                  \n",
      " block1b_add (Add)              (None, None, None,   0           ['block1b_drop[0][0]',           \n",
      "                                16)                               'block1a_project_bn[0][0]']     \n",
      "                                                                                                  \n",
      " block2a_expand_conv (Conv2D)   (None, None, None,   1536        ['block1b_add[0][0]']            \n",
      "                                96)                                                               \n",
      "                                                                                                  \n",
      " block2a_expand_bn (BatchNormal  (None, None, None,   384        ['block2a_expand_conv[0][0]']    \n",
      " ization)                       96)                                                               \n",
      "                                                                                                  \n",
      " block2a_expand_activation (Act  (None, None, None,   0          ['block2a_expand_bn[0][0]']      \n",
      " ivation)                       96)                                                               \n"
     ]
    },
    {
     "name": "stdout",
     "output_type": "stream",
     "text": [
      "                                                                                                  \n",
      " block2a_dwconv (DepthwiseConv2  (None, None, None,   864        ['block2a_expand_activation[0][0]\n",
      " D)                             96)                              ']                               \n",
      "                                                                                                  \n",
      " block2a_bn (BatchNormalization  (None, None, None,   384        ['block2a_dwconv[0][0]']         \n",
      " )                              96)                                                               \n",
      "                                                                                                  \n",
      " block2a_activation (Activation  (None, None, None,   0          ['block2a_bn[0][0]']             \n",
      " )                              96)                                                               \n",
      "                                                                                                  \n",
      " block2a_se_squeeze (GlobalAver  (None, 96)          0           ['block2a_activation[0][0]']     \n",
      " agePooling2D)                                                                                    \n",
      "                                                                                                  \n",
      " block2a_se_reshape (Reshape)   (None, 1, 1, 96)     0           ['block2a_se_squeeze[0][0]']     \n",
      "                                                                                                  \n",
      " block2a_se_reduce (Conv2D)     (None, 1, 1, 4)      388         ['block2a_se_reshape[0][0]']     \n",
      "                                                                                                  \n",
      " block2a_se_expand (Conv2D)     (None, 1, 1, 96)     480         ['block2a_se_reduce[0][0]']      \n",
      "                                                                                                  \n",
      " block2a_se_excite (Multiply)   (None, None, None,   0           ['block2a_activation[0][0]',     \n",
      "                                96)                               'block2a_se_expand[0][0]']      \n",
      "                                                                                                  \n",
      " block2a_project_conv (Conv2D)  (None, None, None,   2304        ['block2a_se_excite[0][0]']      \n",
      "                                24)                                                               \n",
      "                                                                                                  \n",
      " block2a_project_bn (BatchNorma  (None, None, None,   96         ['block2a_project_conv[0][0]']   \n",
      " lization)                      24)                                                               \n",
      "                                                                                                  \n",
      " block2b_expand_conv (Conv2D)   (None, None, None,   3456        ['block2a_project_bn[0][0]']     \n",
      "                                144)                                                              \n",
      "                                                                                                  \n",
      " block2b_expand_bn (BatchNormal  (None, None, None,   576        ['block2b_expand_conv[0][0]']    \n",
      " ization)                       144)                                                              \n",
      "                                                                                                  \n",
      " block2b_expand_activation (Act  (None, None, None,   0          ['block2b_expand_bn[0][0]']      \n",
      " ivation)                       144)                                                              \n",
      "                                                                                                  \n",
      " block2b_dwconv (DepthwiseConv2  (None, None, None,   1296       ['block2b_expand_activation[0][0]\n",
      " D)                             144)                             ']                               \n",
      "                                                                                                  \n",
      " block2b_bn (BatchNormalization  (None, None, None,   576        ['block2b_dwconv[0][0]']         \n",
      " )                              144)                                                              \n",
      "                                                                                                  \n",
      " block2b_activation (Activation  (None, None, None,   0          ['block2b_bn[0][0]']             \n",
      " )                              144)                                                              \n",
      "                                                                                                  \n",
      " block2b_se_squeeze (GlobalAver  (None, 144)         0           ['block2b_activation[0][0]']     \n",
      " agePooling2D)                                                                                    \n",
      "                                                                                                  \n",
      " block2b_se_reshape (Reshape)   (None, 1, 1, 144)    0           ['block2b_se_squeeze[0][0]']     \n",
      "                                                                                                  \n",
      " block2b_se_reduce (Conv2D)     (None, 1, 1, 6)      870         ['block2b_se_reshape[0][0]']     \n",
      "                                                                                                  \n",
      " block2b_se_expand (Conv2D)     (None, 1, 1, 144)    1008        ['block2b_se_reduce[0][0]']      \n",
      "                                                                                                  \n",
      " block2b_se_excite (Multiply)   (None, None, None,   0           ['block2b_activation[0][0]',     \n",
      "                                144)                              'block2b_se_expand[0][0]']      \n",
      "                                                                                                  \n",
      " block2b_project_conv (Conv2D)  (None, None, None,   3456        ['block2b_se_excite[0][0]']      \n",
      "                                24)                                                               \n",
      "                                                                                                  \n",
      " block2b_project_bn (BatchNorma  (None, None, None,   96         ['block2b_project_conv[0][0]']   \n",
      " lization)                      24)                                                               \n",
      "                                                                                                  \n",
      " block2b_drop (FixedDropout)    (None, None, None,   0           ['block2b_project_bn[0][0]']     \n",
      "                                24)                                                               \n",
      "                                                                                                  \n",
      " block2b_add (Add)              (None, None, None,   0           ['block2b_drop[0][0]',           \n",
      "                                24)                               'block2a_project_bn[0][0]']     \n",
      "                                                                                                  \n",
      " block2c_expand_conv (Conv2D)   (None, None, None,   3456        ['block2b_add[0][0]']            \n",
      "                                144)                                                              \n",
      "                                                                                                  \n",
      " block2c_expand_bn (BatchNormal  (None, None, None,   576        ['block2c_expand_conv[0][0]']    \n",
      " ization)                       144)                                                              \n",
      "                                                                                                  \n",
      " block2c_expand_activation (Act  (None, None, None,   0          ['block2c_expand_bn[0][0]']      \n",
      " ivation)                       144)                                                              \n",
      "                                                                                                  \n",
      " block2c_dwconv (DepthwiseConv2  (None, None, None,   1296       ['block2c_expand_activation[0][0]\n",
      " D)                             144)                             ']                               \n",
      "                                                                                                  \n",
      " block2c_bn (BatchNormalization  (None, None, None,   576        ['block2c_dwconv[0][0]']         \n"
     ]
    },
    {
     "name": "stdout",
     "output_type": "stream",
     "text": [
      " )                              144)                                                              \n",
      "                                                                                                  \n",
      " block2c_activation (Activation  (None, None, None,   0          ['block2c_bn[0][0]']             \n",
      " )                              144)                                                              \n",
      "                                                                                                  \n",
      " block2c_se_squeeze (GlobalAver  (None, 144)         0           ['block2c_activation[0][0]']     \n",
      " agePooling2D)                                                                                    \n",
      "                                                                                                  \n",
      " block2c_se_reshape (Reshape)   (None, 1, 1, 144)    0           ['block2c_se_squeeze[0][0]']     \n",
      "                                                                                                  \n",
      " block2c_se_reduce (Conv2D)     (None, 1, 1, 6)      870         ['block2c_se_reshape[0][0]']     \n",
      "                                                                                                  \n",
      " block2c_se_expand (Conv2D)     (None, 1, 1, 144)    1008        ['block2c_se_reduce[0][0]']      \n",
      "                                                                                                  \n",
      " block2c_se_excite (Multiply)   (None, None, None,   0           ['block2c_activation[0][0]',     \n",
      "                                144)                              'block2c_se_expand[0][0]']      \n",
      "                                                                                                  \n",
      " block2c_project_conv (Conv2D)  (None, None, None,   3456        ['block2c_se_excite[0][0]']      \n",
      "                                24)                                                               \n",
      "                                                                                                  \n",
      " block2c_project_bn (BatchNorma  (None, None, None,   96         ['block2c_project_conv[0][0]']   \n",
      " lization)                      24)                                                               \n",
      "                                                                                                  \n",
      " block2c_drop (FixedDropout)    (None, None, None,   0           ['block2c_project_bn[0][0]']     \n",
      "                                24)                                                               \n",
      "                                                                                                  \n",
      " block2c_add (Add)              (None, None, None,   0           ['block2c_drop[0][0]',           \n",
      "                                24)                               'block2b_add[0][0]']            \n",
      "                                                                                                  \n",
      " block3a_expand_conv (Conv2D)   (None, None, None,   3456        ['block2c_add[0][0]']            \n",
      "                                144)                                                              \n",
      "                                                                                                  \n",
      " block3a_expand_bn (BatchNormal  (None, None, None,   576        ['block3a_expand_conv[0][0]']    \n",
      " ization)                       144)                                                              \n",
      "                                                                                                  \n",
      " block3a_expand_activation (Act  (None, None, None,   0          ['block3a_expand_bn[0][0]']      \n",
      " ivation)                       144)                                                              \n",
      "                                                                                                  \n",
      " block3a_dwconv (DepthwiseConv2  (None, None, None,   3600       ['block3a_expand_activation[0][0]\n",
      " D)                             144)                             ']                               \n",
      "                                                                                                  \n",
      " block3a_bn (BatchNormalization  (None, None, None,   576        ['block3a_dwconv[0][0]']         \n",
      " )                              144)                                                              \n",
      "                                                                                                  \n",
      " block3a_activation (Activation  (None, None, None,   0          ['block3a_bn[0][0]']             \n",
      " )                              144)                                                              \n",
      "                                                                                                  \n",
      " block3a_se_squeeze (GlobalAver  (None, 144)         0           ['block3a_activation[0][0]']     \n",
      " agePooling2D)                                                                                    \n",
      "                                                                                                  \n",
      " block3a_se_reshape (Reshape)   (None, 1, 1, 144)    0           ['block3a_se_squeeze[0][0]']     \n",
      "                                                                                                  \n",
      " block3a_se_reduce (Conv2D)     (None, 1, 1, 6)      870         ['block3a_se_reshape[0][0]']     \n",
      "                                                                                                  \n",
      " block3a_se_expand (Conv2D)     (None, 1, 1, 144)    1008        ['block3a_se_reduce[0][0]']      \n",
      "                                                                                                  \n",
      " block3a_se_excite (Multiply)   (None, None, None,   0           ['block3a_activation[0][0]',     \n",
      "                                144)                              'block3a_se_expand[0][0]']      \n",
      "                                                                                                  \n",
      " block3a_project_conv (Conv2D)  (None, None, None,   6912        ['block3a_se_excite[0][0]']      \n",
      "                                48)                                                               \n",
      "                                                                                                  \n",
      " block3a_project_bn (BatchNorma  (None, None, None,   192        ['block3a_project_conv[0][0]']   \n",
      " lization)                      48)                                                               \n",
      "                                                                                                  \n",
      " block3b_expand_conv (Conv2D)   (None, None, None,   13824       ['block3a_project_bn[0][0]']     \n",
      "                                288)                                                              \n",
      "                                                                                                  \n",
      " block3b_expand_bn (BatchNormal  (None, None, None,   1152       ['block3b_expand_conv[0][0]']    \n",
      " ization)                       288)                                                              \n",
      "                                                                                                  \n",
      " block3b_expand_activation (Act  (None, None, None,   0          ['block3b_expand_bn[0][0]']      \n",
      " ivation)                       288)                                                              \n",
      "                                                                                                  \n",
      " block3b_dwconv (DepthwiseConv2  (None, None, None,   7200       ['block3b_expand_activation[0][0]\n",
      " D)                             288)                             ']                               \n",
      "                                                                                                  \n",
      " block3b_bn (BatchNormalization  (None, None, None,   1152       ['block3b_dwconv[0][0]']         \n",
      " )                              288)                                                              \n",
      "                                                                                                  \n",
      " block3b_activation (Activation  (None, None, None,   0          ['block3b_bn[0][0]']             \n",
      " )                              288)                                                              \n",
      "                                                                                                  \n"
     ]
    },
    {
     "name": "stdout",
     "output_type": "stream",
     "text": [
      " block3b_se_squeeze (GlobalAver  (None, 288)         0           ['block3b_activation[0][0]']     \n",
      " agePooling2D)                                                                                    \n",
      "                                                                                                  \n",
      " block3b_se_reshape (Reshape)   (None, 1, 1, 288)    0           ['block3b_se_squeeze[0][0]']     \n",
      "                                                                                                  \n",
      " block3b_se_reduce (Conv2D)     (None, 1, 1, 12)     3468        ['block3b_se_reshape[0][0]']     \n",
      "                                                                                                  \n",
      " block3b_se_expand (Conv2D)     (None, 1, 1, 288)    3744        ['block3b_se_reduce[0][0]']      \n",
      "                                                                                                  \n",
      " block3b_se_excite (Multiply)   (None, None, None,   0           ['block3b_activation[0][0]',     \n",
      "                                288)                              'block3b_se_expand[0][0]']      \n",
      "                                                                                                  \n",
      " block3b_project_conv (Conv2D)  (None, None, None,   13824       ['block3b_se_excite[0][0]']      \n",
      "                                48)                                                               \n",
      "                                                                                                  \n",
      " block3b_project_bn (BatchNorma  (None, None, None,   192        ['block3b_project_conv[0][0]']   \n",
      " lization)                      48)                                                               \n",
      "                                                                                                  \n",
      " block3b_drop (FixedDropout)    (None, None, None,   0           ['block3b_project_bn[0][0]']     \n",
      "                                48)                                                               \n",
      "                                                                                                  \n",
      " block3b_add (Add)              (None, None, None,   0           ['block3b_drop[0][0]',           \n",
      "                                48)                               'block3a_project_bn[0][0]']     \n",
      "                                                                                                  \n",
      " block3c_expand_conv (Conv2D)   (None, None, None,   13824       ['block3b_add[0][0]']            \n",
      "                                288)                                                              \n",
      "                                                                                                  \n",
      " block3c_expand_bn (BatchNormal  (None, None, None,   1152       ['block3c_expand_conv[0][0]']    \n",
      " ization)                       288)                                                              \n",
      "                                                                                                  \n",
      " block3c_expand_activation (Act  (None, None, None,   0          ['block3c_expand_bn[0][0]']      \n",
      " ivation)                       288)                                                              \n",
      "                                                                                                  \n",
      " block3c_dwconv (DepthwiseConv2  (None, None, None,   7200       ['block3c_expand_activation[0][0]\n",
      " D)                             288)                             ']                               \n",
      "                                                                                                  \n",
      " block3c_bn (BatchNormalization  (None, None, None,   1152       ['block3c_dwconv[0][0]']         \n",
      " )                              288)                                                              \n",
      "                                                                                                  \n",
      " block3c_activation (Activation  (None, None, None,   0          ['block3c_bn[0][0]']             \n",
      " )                              288)                                                              \n",
      "                                                                                                  \n",
      " block3c_se_squeeze (GlobalAver  (None, 288)         0           ['block3c_activation[0][0]']     \n",
      " agePooling2D)                                                                                    \n",
      "                                                                                                  \n",
      " block3c_se_reshape (Reshape)   (None, 1, 1, 288)    0           ['block3c_se_squeeze[0][0]']     \n",
      "                                                                                                  \n",
      " block3c_se_reduce (Conv2D)     (None, 1, 1, 12)     3468        ['block3c_se_reshape[0][0]']     \n",
      "                                                                                                  \n",
      " block3c_se_expand (Conv2D)     (None, 1, 1, 288)    3744        ['block3c_se_reduce[0][0]']      \n",
      "                                                                                                  \n",
      " block3c_se_excite (Multiply)   (None, None, None,   0           ['block3c_activation[0][0]',     \n",
      "                                288)                              'block3c_se_expand[0][0]']      \n",
      "                                                                                                  \n",
      " block3c_project_conv (Conv2D)  (None, None, None,   13824       ['block3c_se_excite[0][0]']      \n",
      "                                48)                                                               \n",
      "                                                                                                  \n",
      " block3c_project_bn (BatchNorma  (None, None, None,   192        ['block3c_project_conv[0][0]']   \n",
      " lization)                      48)                                                               \n",
      "                                                                                                  \n",
      " block3c_drop (FixedDropout)    (None, None, None,   0           ['block3c_project_bn[0][0]']     \n",
      "                                48)                                                               \n",
      "                                                                                                  \n",
      " block3c_add (Add)              (None, None, None,   0           ['block3c_drop[0][0]',           \n",
      "                                48)                               'block3b_add[0][0]']            \n",
      "                                                                                                  \n",
      " block4a_expand_conv (Conv2D)   (None, None, None,   13824       ['block3c_add[0][0]']            \n",
      "                                288)                                                              \n",
      "                                                                                                  \n",
      " block4a_expand_bn (BatchNormal  (None, None, None,   1152       ['block4a_expand_conv[0][0]']    \n",
      " ization)                       288)                                                              \n",
      "                                                                                                  \n",
      " block4a_expand_activation (Act  (None, None, None,   0          ['block4a_expand_bn[0][0]']      \n",
      " ivation)                       288)                                                              \n",
      "                                                                                                  \n",
      " block4a_dwconv (DepthwiseConv2  (None, None, None,   2592       ['block4a_expand_activation[0][0]\n",
      " D)                             288)                             ']                               \n",
      "                                                                                                  \n",
      " block4a_bn (BatchNormalization  (None, None, None,   1152       ['block4a_dwconv[0][0]']         \n",
      " )                              288)                                                              \n",
      "                                                                                                  \n",
      " block4a_activation (Activation  (None, None, None,   0          ['block4a_bn[0][0]']             \n",
      " )                              288)                                                              \n"
     ]
    },
    {
     "name": "stdout",
     "output_type": "stream",
     "text": [
      "                                                                                                  \n",
      " block4a_se_squeeze (GlobalAver  (None, 288)         0           ['block4a_activation[0][0]']     \n",
      " agePooling2D)                                                                                    \n",
      "                                                                                                  \n",
      " block4a_se_reshape (Reshape)   (None, 1, 1, 288)    0           ['block4a_se_squeeze[0][0]']     \n",
      "                                                                                                  \n",
      " block4a_se_reduce (Conv2D)     (None, 1, 1, 12)     3468        ['block4a_se_reshape[0][0]']     \n",
      "                                                                                                  \n",
      " block4a_se_expand (Conv2D)     (None, 1, 1, 288)    3744        ['block4a_se_reduce[0][0]']      \n",
      "                                                                                                  \n",
      " block4a_se_excite (Multiply)   (None, None, None,   0           ['block4a_activation[0][0]',     \n",
      "                                288)                              'block4a_se_expand[0][0]']      \n",
      "                                                                                                  \n",
      " block4a_project_conv (Conv2D)  (None, None, None,   25344       ['block4a_se_excite[0][0]']      \n",
      "                                88)                                                               \n",
      "                                                                                                  \n",
      " block4a_project_bn (BatchNorma  (None, None, None,   352        ['block4a_project_conv[0][0]']   \n",
      " lization)                      88)                                                               \n",
      "                                                                                                  \n",
      " block4b_expand_conv (Conv2D)   (None, None, None,   46464       ['block4a_project_bn[0][0]']     \n",
      "                                528)                                                              \n",
      "                                                                                                  \n",
      " block4b_expand_bn (BatchNormal  (None, None, None,   2112       ['block4b_expand_conv[0][0]']    \n",
      " ization)                       528)                                                              \n",
      "                                                                                                  \n",
      " block4b_expand_activation (Act  (None, None, None,   0          ['block4b_expand_bn[0][0]']      \n",
      " ivation)                       528)                                                              \n",
      "                                                                                                  \n",
      " block4b_dwconv (DepthwiseConv2  (None, None, None,   4752       ['block4b_expand_activation[0][0]\n",
      " D)                             528)                             ']                               \n",
      "                                                                                                  \n",
      " block4b_bn (BatchNormalization  (None, None, None,   2112       ['block4b_dwconv[0][0]']         \n",
      " )                              528)                                                              \n",
      "                                                                                                  \n",
      " block4b_activation (Activation  (None, None, None,   0          ['block4b_bn[0][0]']             \n",
      " )                              528)                                                              \n",
      "                                                                                                  \n",
      " block4b_se_squeeze (GlobalAver  (None, 528)         0           ['block4b_activation[0][0]']     \n",
      " agePooling2D)                                                                                    \n",
      "                                                                                                  \n",
      " block4b_se_reshape (Reshape)   (None, 1, 1, 528)    0           ['block4b_se_squeeze[0][0]']     \n",
      "                                                                                                  \n",
      " block4b_se_reduce (Conv2D)     (None, 1, 1, 22)     11638       ['block4b_se_reshape[0][0]']     \n",
      "                                                                                                  \n",
      " block4b_se_expand (Conv2D)     (None, 1, 1, 528)    12144       ['block4b_se_reduce[0][0]']      \n",
      "                                                                                                  \n",
      " block4b_se_excite (Multiply)   (None, None, None,   0           ['block4b_activation[0][0]',     \n",
      "                                528)                              'block4b_se_expand[0][0]']      \n",
      "                                                                                                  \n",
      " block4b_project_conv (Conv2D)  (None, None, None,   46464       ['block4b_se_excite[0][0]']      \n",
      "                                88)                                                               \n",
      "                                                                                                  \n",
      " block4b_project_bn (BatchNorma  (None, None, None,   352        ['block4b_project_conv[0][0]']   \n",
      " lization)                      88)                                                               \n",
      "                                                                                                  \n",
      " block4b_drop (FixedDropout)    (None, None, None,   0           ['block4b_project_bn[0][0]']     \n",
      "                                88)                                                               \n",
      "                                                                                                  \n",
      " block4b_add (Add)              (None, None, None,   0           ['block4b_drop[0][0]',           \n",
      "                                88)                               'block4a_project_bn[0][0]']     \n",
      "                                                                                                  \n",
      " block4c_expand_conv (Conv2D)   (None, None, None,   46464       ['block4b_add[0][0]']            \n",
      "                                528)                                                              \n",
      "                                                                                                  \n",
      " block4c_expand_bn (BatchNormal  (None, None, None,   2112       ['block4c_expand_conv[0][0]']    \n",
      " ization)                       528)                                                              \n",
      "                                                                                                  \n",
      " block4c_expand_activation (Act  (None, None, None,   0          ['block4c_expand_bn[0][0]']      \n",
      " ivation)                       528)                                                              \n",
      "                                                                                                  \n",
      " block4c_dwconv (DepthwiseConv2  (None, None, None,   4752       ['block4c_expand_activation[0][0]\n",
      " D)                             528)                             ']                               \n",
      "                                                                                                  \n",
      " block4c_bn (BatchNormalization  (None, None, None,   2112       ['block4c_dwconv[0][0]']         \n",
      " )                              528)                                                              \n",
      "                                                                                                  \n",
      " block4c_activation (Activation  (None, None, None,   0          ['block4c_bn[0][0]']             \n",
      " )                              528)                                                              \n",
      "                                                                                                  \n",
      " block4c_se_squeeze (GlobalAver  (None, 528)         0           ['block4c_activation[0][0]']     \n",
      " agePooling2D)                                                                                    \n",
      "                                                                                                  \n",
      " block4c_se_reshape (Reshape)   (None, 1, 1, 528)    0           ['block4c_se_squeeze[0][0]']     \n"
     ]
    },
    {
     "name": "stdout",
     "output_type": "stream",
     "text": [
      "                                                                                                  \n",
      " block4c_se_reduce (Conv2D)     (None, 1, 1, 22)     11638       ['block4c_se_reshape[0][0]']     \n",
      "                                                                                                  \n",
      " block4c_se_expand (Conv2D)     (None, 1, 1, 528)    12144       ['block4c_se_reduce[0][0]']      \n",
      "                                                                                                  \n",
      " block4c_se_excite (Multiply)   (None, None, None,   0           ['block4c_activation[0][0]',     \n",
      "                                528)                              'block4c_se_expand[0][0]']      \n",
      "                                                                                                  \n",
      " block4c_project_conv (Conv2D)  (None, None, None,   46464       ['block4c_se_excite[0][0]']      \n",
      "                                88)                                                               \n",
      "                                                                                                  \n",
      " block4c_project_bn (BatchNorma  (None, None, None,   352        ['block4c_project_conv[0][0]']   \n",
      " lization)                      88)                                                               \n",
      "                                                                                                  \n",
      " block4c_drop (FixedDropout)    (None, None, None,   0           ['block4c_project_bn[0][0]']     \n",
      "                                88)                                                               \n",
      "                                                                                                  \n",
      " block4c_add (Add)              (None, None, None,   0           ['block4c_drop[0][0]',           \n",
      "                                88)                               'block4b_add[0][0]']            \n",
      "                                                                                                  \n",
      " block4d_expand_conv (Conv2D)   (None, None, None,   46464       ['block4c_add[0][0]']            \n",
      "                                528)                                                              \n",
      "                                                                                                  \n",
      " block4d_expand_bn (BatchNormal  (None, None, None,   2112       ['block4d_expand_conv[0][0]']    \n",
      " ization)                       528)                                                              \n",
      "                                                                                                  \n",
      " block4d_expand_activation (Act  (None, None, None,   0          ['block4d_expand_bn[0][0]']      \n",
      " ivation)                       528)                                                              \n",
      "                                                                                                  \n",
      " block4d_dwconv (DepthwiseConv2  (None, None, None,   4752       ['block4d_expand_activation[0][0]\n",
      " D)                             528)                             ']                               \n",
      "                                                                                                  \n",
      " block4d_bn (BatchNormalization  (None, None, None,   2112       ['block4d_dwconv[0][0]']         \n",
      " )                              528)                                                              \n",
      "                                                                                                  \n",
      " block4d_activation (Activation  (None, None, None,   0          ['block4d_bn[0][0]']             \n",
      " )                              528)                                                              \n",
      "                                                                                                  \n",
      " block4d_se_squeeze (GlobalAver  (None, 528)         0           ['block4d_activation[0][0]']     \n",
      " agePooling2D)                                                                                    \n",
      "                                                                                                  \n",
      " block4d_se_reshape (Reshape)   (None, 1, 1, 528)    0           ['block4d_se_squeeze[0][0]']     \n",
      "                                                                                                  \n",
      " block4d_se_reduce (Conv2D)     (None, 1, 1, 22)     11638       ['block4d_se_reshape[0][0]']     \n",
      "                                                                                                  \n",
      " block4d_se_expand (Conv2D)     (None, 1, 1, 528)    12144       ['block4d_se_reduce[0][0]']      \n",
      "                                                                                                  \n",
      " block4d_se_excite (Multiply)   (None, None, None,   0           ['block4d_activation[0][0]',     \n",
      "                                528)                              'block4d_se_expand[0][0]']      \n",
      "                                                                                                  \n",
      " block4d_project_conv (Conv2D)  (None, None, None,   46464       ['block4d_se_excite[0][0]']      \n",
      "                                88)                                                               \n",
      "                                                                                                  \n",
      " block4d_project_bn (BatchNorma  (None, None, None,   352        ['block4d_project_conv[0][0]']   \n",
      " lization)                      88)                                                               \n",
      "                                                                                                  \n",
      " block4d_drop (FixedDropout)    (None, None, None,   0           ['block4d_project_bn[0][0]']     \n",
      "                                88)                                                               \n",
      "                                                                                                  \n",
      " block4d_add (Add)              (None, None, None,   0           ['block4d_drop[0][0]',           \n",
      "                                88)                               'block4c_add[0][0]']            \n",
      "                                                                                                  \n",
      " block5a_expand_conv (Conv2D)   (None, None, None,   46464       ['block4d_add[0][0]']            \n",
      "                                528)                                                              \n",
      "                                                                                                  \n",
      " block5a_expand_bn (BatchNormal  (None, None, None,   2112       ['block5a_expand_conv[0][0]']    \n",
      " ization)                       528)                                                              \n",
      "                                                                                                  \n",
      " block5a_expand_activation (Act  (None, None, None,   0          ['block5a_expand_bn[0][0]']      \n",
      " ivation)                       528)                                                              \n",
      "                                                                                                  \n",
      " block5a_dwconv (DepthwiseConv2  (None, None, None,   13200      ['block5a_expand_activation[0][0]\n",
      " D)                             528)                             ']                               \n",
      "                                                                                                  \n",
      " block5a_bn (BatchNormalization  (None, None, None,   2112       ['block5a_dwconv[0][0]']         \n",
      " )                              528)                                                              \n",
      "                                                                                                  \n",
      " block5a_activation (Activation  (None, None, None,   0          ['block5a_bn[0][0]']             \n",
      " )                              528)                                                              \n",
      "                                                                                                  \n",
      " block5a_se_squeeze (GlobalAver  (None, 528)         0           ['block5a_activation[0][0]']     \n",
      " agePooling2D)                                                                                    \n",
      "                                                                                                  \n"
     ]
    },
    {
     "name": "stdout",
     "output_type": "stream",
     "text": [
      " block5a_se_reshape (Reshape)   (None, 1, 1, 528)    0           ['block5a_se_squeeze[0][0]']     \n",
      "                                                                                                  \n",
      " block5a_se_reduce (Conv2D)     (None, 1, 1, 22)     11638       ['block5a_se_reshape[0][0]']     \n",
      "                                                                                                  \n",
      " block5a_se_expand (Conv2D)     (None, 1, 1, 528)    12144       ['block5a_se_reduce[0][0]']      \n",
      "                                                                                                  \n",
      " block5a_se_excite (Multiply)   (None, None, None,   0           ['block5a_activation[0][0]',     \n",
      "                                528)                              'block5a_se_expand[0][0]']      \n",
      "                                                                                                  \n",
      " block5a_project_conv (Conv2D)  (None, None, None,   63360       ['block5a_se_excite[0][0]']      \n",
      "                                120)                                                              \n",
      "                                                                                                  \n",
      " block5a_project_bn (BatchNorma  (None, None, None,   480        ['block5a_project_conv[0][0]']   \n",
      " lization)                      120)                                                              \n",
      "                                                                                                  \n",
      " block5b_expand_conv (Conv2D)   (None, None, None,   86400       ['block5a_project_bn[0][0]']     \n",
      "                                720)                                                              \n",
      "                                                                                                  \n",
      " block5b_expand_bn (BatchNormal  (None, None, None,   2880       ['block5b_expand_conv[0][0]']    \n",
      " ization)                       720)                                                              \n",
      "                                                                                                  \n",
      " block5b_expand_activation (Act  (None, None, None,   0          ['block5b_expand_bn[0][0]']      \n",
      " ivation)                       720)                                                              \n",
      "                                                                                                  \n",
      " block5b_dwconv (DepthwiseConv2  (None, None, None,   18000      ['block5b_expand_activation[0][0]\n",
      " D)                             720)                             ']                               \n",
      "                                                                                                  \n",
      " block5b_bn (BatchNormalization  (None, None, None,   2880       ['block5b_dwconv[0][0]']         \n",
      " )                              720)                                                              \n",
      "                                                                                                  \n",
      " block5b_activation (Activation  (None, None, None,   0          ['block5b_bn[0][0]']             \n",
      " )                              720)                                                              \n",
      "                                                                                                  \n",
      " block5b_se_squeeze (GlobalAver  (None, 720)         0           ['block5b_activation[0][0]']     \n",
      " agePooling2D)                                                                                    \n",
      "                                                                                                  \n",
      " block5b_se_reshape (Reshape)   (None, 1, 1, 720)    0           ['block5b_se_squeeze[0][0]']     \n",
      "                                                                                                  \n",
      " block5b_se_reduce (Conv2D)     (None, 1, 1, 30)     21630       ['block5b_se_reshape[0][0]']     \n",
      "                                                                                                  \n",
      " block5b_se_expand (Conv2D)     (None, 1, 1, 720)    22320       ['block5b_se_reduce[0][0]']      \n",
      "                                                                                                  \n",
      " block5b_se_excite (Multiply)   (None, None, None,   0           ['block5b_activation[0][0]',     \n",
      "                                720)                              'block5b_se_expand[0][0]']      \n",
      "                                                                                                  \n",
      " block5b_project_conv (Conv2D)  (None, None, None,   86400       ['block5b_se_excite[0][0]']      \n",
      "                                120)                                                              \n",
      "                                                                                                  \n",
      " block5b_project_bn (BatchNorma  (None, None, None,   480        ['block5b_project_conv[0][0]']   \n",
      " lization)                      120)                                                              \n",
      "                                                                                                  \n",
      " block5b_drop (FixedDropout)    (None, None, None,   0           ['block5b_project_bn[0][0]']     \n",
      "                                120)                                                              \n",
      "                                                                                                  \n",
      " block5b_add (Add)              (None, None, None,   0           ['block5b_drop[0][0]',           \n",
      "                                120)                              'block5a_project_bn[0][0]']     \n",
      "                                                                                                  \n",
      " block5c_expand_conv (Conv2D)   (None, None, None,   86400       ['block5b_add[0][0]']            \n",
      "                                720)                                                              \n",
      "                                                                                                  \n",
      " block5c_expand_bn (BatchNormal  (None, None, None,   2880       ['block5c_expand_conv[0][0]']    \n",
      " ization)                       720)                                                              \n",
      "                                                                                                  \n",
      " block5c_expand_activation (Act  (None, None, None,   0          ['block5c_expand_bn[0][0]']      \n",
      " ivation)                       720)                                                              \n",
      "                                                                                                  \n",
      " block5c_dwconv (DepthwiseConv2  (None, None, None,   18000      ['block5c_expand_activation[0][0]\n",
      " D)                             720)                             ']                               \n",
      "                                                                                                  \n",
      " block5c_bn (BatchNormalization  (None, None, None,   2880       ['block5c_dwconv[0][0]']         \n",
      " )                              720)                                                              \n",
      "                                                                                                  \n",
      " block5c_activation (Activation  (None, None, None,   0          ['block5c_bn[0][0]']             \n",
      " )                              720)                                                              \n",
      "                                                                                                  \n",
      " block5c_se_squeeze (GlobalAver  (None, 720)         0           ['block5c_activation[0][0]']     \n",
      " agePooling2D)                                                                                    \n",
      "                                                                                                  \n",
      " block5c_se_reshape (Reshape)   (None, 1, 1, 720)    0           ['block5c_se_squeeze[0][0]']     \n",
      "                                                                                                  \n",
      " block5c_se_reduce (Conv2D)     (None, 1, 1, 30)     21630       ['block5c_se_reshape[0][0]']     \n",
      "                                                                                                  \n",
      " block5c_se_expand (Conv2D)     (None, 1, 1, 720)    22320       ['block5c_se_reduce[0][0]']      \n"
     ]
    },
    {
     "name": "stdout",
     "output_type": "stream",
     "text": [
      "                                                                                                  \n",
      " block5c_se_excite (Multiply)   (None, None, None,   0           ['block5c_activation[0][0]',     \n",
      "                                720)                              'block5c_se_expand[0][0]']      \n",
      "                                                                                                  \n",
      " block5c_project_conv (Conv2D)  (None, None, None,   86400       ['block5c_se_excite[0][0]']      \n",
      "                                120)                                                              \n",
      "                                                                                                  \n",
      " block5c_project_bn (BatchNorma  (None, None, None,   480        ['block5c_project_conv[0][0]']   \n",
      " lization)                      120)                                                              \n",
      "                                                                                                  \n",
      " block5c_drop (FixedDropout)    (None, None, None,   0           ['block5c_project_bn[0][0]']     \n",
      "                                120)                                                              \n",
      "                                                                                                  \n",
      " block5c_add (Add)              (None, None, None,   0           ['block5c_drop[0][0]',           \n",
      "                                120)                              'block5b_add[0][0]']            \n",
      "                                                                                                  \n",
      " block5d_expand_conv (Conv2D)   (None, None, None,   86400       ['block5c_add[0][0]']            \n",
      "                                720)                                                              \n",
      "                                                                                                  \n",
      " block5d_expand_bn (BatchNormal  (None, None, None,   2880       ['block5d_expand_conv[0][0]']    \n",
      " ization)                       720)                                                              \n",
      "                                                                                                  \n",
      " block5d_expand_activation (Act  (None, None, None,   0          ['block5d_expand_bn[0][0]']      \n",
      " ivation)                       720)                                                              \n",
      "                                                                                                  \n",
      " block5d_dwconv (DepthwiseConv2  (None, None, None,   18000      ['block5d_expand_activation[0][0]\n",
      " D)                             720)                             ']                               \n",
      "                                                                                                  \n",
      " block5d_bn (BatchNormalization  (None, None, None,   2880       ['block5d_dwconv[0][0]']         \n",
      " )                              720)                                                              \n",
      "                                                                                                  \n",
      " block5d_activation (Activation  (None, None, None,   0          ['block5d_bn[0][0]']             \n",
      " )                              720)                                                              \n",
      "                                                                                                  \n",
      " block5d_se_squeeze (GlobalAver  (None, 720)         0           ['block5d_activation[0][0]']     \n",
      " agePooling2D)                                                                                    \n",
      "                                                                                                  \n",
      " block5d_se_reshape (Reshape)   (None, 1, 1, 720)    0           ['block5d_se_squeeze[0][0]']     \n",
      "                                                                                                  \n",
      " block5d_se_reduce (Conv2D)     (None, 1, 1, 30)     21630       ['block5d_se_reshape[0][0]']     \n",
      "                                                                                                  \n",
      " block5d_se_expand (Conv2D)     (None, 1, 1, 720)    22320       ['block5d_se_reduce[0][0]']      \n",
      "                                                                                                  \n",
      " block5d_se_excite (Multiply)   (None, None, None,   0           ['block5d_activation[0][0]',     \n",
      "                                720)                              'block5d_se_expand[0][0]']      \n",
      "                                                                                                  \n",
      " block5d_project_conv (Conv2D)  (None, None, None,   86400       ['block5d_se_excite[0][0]']      \n",
      "                                120)                                                              \n",
      "                                                                                                  \n",
      " block5d_project_bn (BatchNorma  (None, None, None,   480        ['block5d_project_conv[0][0]']   \n",
      " lization)                      120)                                                              \n",
      "                                                                                                  \n",
      " block5d_drop (FixedDropout)    (None, None, None,   0           ['block5d_project_bn[0][0]']     \n",
      "                                120)                                                              \n",
      "                                                                                                  \n",
      " block5d_add (Add)              (None, None, None,   0           ['block5d_drop[0][0]',           \n",
      "                                120)                              'block5c_add[0][0]']            \n",
      "                                                                                                  \n",
      " block6a_expand_conv (Conv2D)   (None, None, None,   86400       ['block5d_add[0][0]']            \n",
      "                                720)                                                              \n",
      "                                                                                                  \n",
      " block6a_expand_bn (BatchNormal  (None, None, None,   2880       ['block6a_expand_conv[0][0]']    \n",
      " ization)                       720)                                                              \n",
      "                                                                                                  \n",
      " block6a_expand_activation (Act  (None, None, None,   0          ['block6a_expand_bn[0][0]']      \n",
      " ivation)                       720)                                                              \n",
      "                                                                                                  \n",
      " block6a_dwconv (DepthwiseConv2  (None, None, None,   18000      ['block6a_expand_activation[0][0]\n",
      " D)                             720)                             ']                               \n",
      "                                                                                                  \n",
      " block6a_bn (BatchNormalization  (None, None, None,   2880       ['block6a_dwconv[0][0]']         \n",
      " )                              720)                                                              \n",
      "                                                                                                  \n",
      " block6a_activation (Activation  (None, None, None,   0          ['block6a_bn[0][0]']             \n",
      " )                              720)                                                              \n",
      "                                                                                                  \n",
      " block6a_se_squeeze (GlobalAver  (None, 720)         0           ['block6a_activation[0][0]']     \n",
      " agePooling2D)                                                                                    \n",
      "                                                                                                  \n",
      " block6a_se_reshape (Reshape)   (None, 1, 1, 720)    0           ['block6a_se_squeeze[0][0]']     \n",
      "                                                                                                  \n",
      " block6a_se_reduce (Conv2D)     (None, 1, 1, 30)     21630       ['block6a_se_reshape[0][0]']     \n",
      "                                                                                                  \n"
     ]
    },
    {
     "name": "stdout",
     "output_type": "stream",
     "text": [
      " block6a_se_expand (Conv2D)     (None, 1, 1, 720)    22320       ['block6a_se_reduce[0][0]']      \n",
      "                                                                                                  \n",
      " block6a_se_excite (Multiply)   (None, None, None,   0           ['block6a_activation[0][0]',     \n",
      "                                720)                              'block6a_se_expand[0][0]']      \n",
      "                                                                                                  \n",
      " block6a_project_conv (Conv2D)  (None, None, None,   149760      ['block6a_se_excite[0][0]']      \n",
      "                                208)                                                              \n",
      "                                                                                                  \n",
      " block6a_project_bn (BatchNorma  (None, None, None,   832        ['block6a_project_conv[0][0]']   \n",
      " lization)                      208)                                                              \n",
      "                                                                                                  \n",
      " block6b_expand_conv (Conv2D)   (None, None, None,   259584      ['block6a_project_bn[0][0]']     \n",
      "                                1248)                                                             \n",
      "                                                                                                  \n",
      " block6b_expand_bn (BatchNormal  (None, None, None,   4992       ['block6b_expand_conv[0][0]']    \n",
      " ization)                       1248)                                                             \n",
      "                                                                                                  \n",
      " block6b_expand_activation (Act  (None, None, None,   0          ['block6b_expand_bn[0][0]']      \n",
      " ivation)                       1248)                                                             \n",
      "                                                                                                  \n",
      " block6b_dwconv (DepthwiseConv2  (None, None, None,   31200      ['block6b_expand_activation[0][0]\n",
      " D)                             1248)                            ']                               \n",
      "                                                                                                  \n",
      " block6b_bn (BatchNormalization  (None, None, None,   4992       ['block6b_dwconv[0][0]']         \n",
      " )                              1248)                                                             \n",
      "                                                                                                  \n",
      " block6b_activation (Activation  (None, None, None,   0          ['block6b_bn[0][0]']             \n",
      " )                              1248)                                                             \n",
      "                                                                                                  \n",
      " block6b_se_squeeze (GlobalAver  (None, 1248)        0           ['block6b_activation[0][0]']     \n",
      " agePooling2D)                                                                                    \n",
      "                                                                                                  \n",
      " block6b_se_reshape (Reshape)   (None, 1, 1, 1248)   0           ['block6b_se_squeeze[0][0]']     \n",
      "                                                                                                  \n",
      " block6b_se_reduce (Conv2D)     (None, 1, 1, 52)     64948       ['block6b_se_reshape[0][0]']     \n",
      "                                                                                                  \n",
      " block6b_se_expand (Conv2D)     (None, 1, 1, 1248)   66144       ['block6b_se_reduce[0][0]']      \n",
      "                                                                                                  \n",
      " block6b_se_excite (Multiply)   (None, None, None,   0           ['block6b_activation[0][0]',     \n",
      "                                1248)                             'block6b_se_expand[0][0]']      \n",
      "                                                                                                  \n",
      " block6b_project_conv (Conv2D)  (None, None, None,   259584      ['block6b_se_excite[0][0]']      \n",
      "                                208)                                                              \n",
      "                                                                                                  \n",
      " block6b_project_bn (BatchNorma  (None, None, None,   832        ['block6b_project_conv[0][0]']   \n",
      " lization)                      208)                                                              \n",
      "                                                                                                  \n",
      " block6b_drop (FixedDropout)    (None, None, None,   0           ['block6b_project_bn[0][0]']     \n",
      "                                208)                                                              \n",
      "                                                                                                  \n",
      " block6b_add (Add)              (None, None, None,   0           ['block6b_drop[0][0]',           \n",
      "                                208)                              'block6a_project_bn[0][0]']     \n",
      "                                                                                                  \n",
      " block6c_expand_conv (Conv2D)   (None, None, None,   259584      ['block6b_add[0][0]']            \n",
      "                                1248)                                                             \n",
      "                                                                                                  \n",
      " block6c_expand_bn (BatchNormal  (None, None, None,   4992       ['block6c_expand_conv[0][0]']    \n",
      " ization)                       1248)                                                             \n",
      "                                                                                                  \n",
      " block6c_expand_activation (Act  (None, None, None,   0          ['block6c_expand_bn[0][0]']      \n",
      " ivation)                       1248)                                                             \n",
      "                                                                                                  \n",
      " block6c_dwconv (DepthwiseConv2  (None, None, None,   31200      ['block6c_expand_activation[0][0]\n",
      " D)                             1248)                            ']                               \n",
      "                                                                                                  \n",
      " block6c_bn (BatchNormalization  (None, None, None,   4992       ['block6c_dwconv[0][0]']         \n",
      " )                              1248)                                                             \n",
      "                                                                                                  \n",
      " block6c_activation (Activation  (None, None, None,   0          ['block6c_bn[0][0]']             \n",
      " )                              1248)                                                             \n",
      "                                                                                                  \n",
      " block6c_se_squeeze (GlobalAver  (None, 1248)        0           ['block6c_activation[0][0]']     \n",
      " agePooling2D)                                                                                    \n",
      "                                                                                                  \n",
      " block6c_se_reshape (Reshape)   (None, 1, 1, 1248)   0           ['block6c_se_squeeze[0][0]']     \n",
      "                                                                                                  \n",
      " block6c_se_reduce (Conv2D)     (None, 1, 1, 52)     64948       ['block6c_se_reshape[0][0]']     \n",
      "                                                                                                  \n",
      " block6c_se_expand (Conv2D)     (None, 1, 1, 1248)   66144       ['block6c_se_reduce[0][0]']      \n",
      "                                                                                                  \n",
      " block6c_se_excite (Multiply)   (None, None, None,   0           ['block6c_activation[0][0]',     \n",
      "                                1248)                             'block6c_se_expand[0][0]']      \n",
      "                                                                                                  \n"
     ]
    },
    {
     "name": "stdout",
     "output_type": "stream",
     "text": [
      " block6c_project_conv (Conv2D)  (None, None, None,   259584      ['block6c_se_excite[0][0]']      \n",
      "                                208)                                                              \n",
      "                                                                                                  \n",
      " block6c_project_bn (BatchNorma  (None, None, None,   832        ['block6c_project_conv[0][0]']   \n",
      " lization)                      208)                                                              \n",
      "                                                                                                  \n",
      " block6c_drop (FixedDropout)    (None, None, None,   0           ['block6c_project_bn[0][0]']     \n",
      "                                208)                                                              \n",
      "                                                                                                  \n",
      " block6c_add (Add)              (None, None, None,   0           ['block6c_drop[0][0]',           \n",
      "                                208)                              'block6b_add[0][0]']            \n",
      "                                                                                                  \n",
      " block6d_expand_conv (Conv2D)   (None, None, None,   259584      ['block6c_add[0][0]']            \n",
      "                                1248)                                                             \n",
      "                                                                                                  \n",
      " block6d_expand_bn (BatchNormal  (None, None, None,   4992       ['block6d_expand_conv[0][0]']    \n",
      " ization)                       1248)                                                             \n",
      "                                                                                                  \n",
      " block6d_expand_activation (Act  (None, None, None,   0          ['block6d_expand_bn[0][0]']      \n",
      " ivation)                       1248)                                                             \n",
      "                                                                                                  \n",
      " block6d_dwconv (DepthwiseConv2  (None, None, None,   31200      ['block6d_expand_activation[0][0]\n",
      " D)                             1248)                            ']                               \n",
      "                                                                                                  \n",
      " block6d_bn (BatchNormalization  (None, None, None,   4992       ['block6d_dwconv[0][0]']         \n",
      " )                              1248)                                                             \n",
      "                                                                                                  \n",
      " block6d_activation (Activation  (None, None, None,   0          ['block6d_bn[0][0]']             \n",
      " )                              1248)                                                             \n",
      "                                                                                                  \n",
      " block6d_se_squeeze (GlobalAver  (None, 1248)        0           ['block6d_activation[0][0]']     \n",
      " agePooling2D)                                                                                    \n",
      "                                                                                                  \n",
      " block6d_se_reshape (Reshape)   (None, 1, 1, 1248)   0           ['block6d_se_squeeze[0][0]']     \n",
      "                                                                                                  \n",
      " block6d_se_reduce (Conv2D)     (None, 1, 1, 52)     64948       ['block6d_se_reshape[0][0]']     \n",
      "                                                                                                  \n",
      " block6d_se_expand (Conv2D)     (None, 1, 1, 1248)   66144       ['block6d_se_reduce[0][0]']      \n",
      "                                                                                                  \n",
      " block6d_se_excite (Multiply)   (None, None, None,   0           ['block6d_activation[0][0]',     \n",
      "                                1248)                             'block6d_se_expand[0][0]']      \n",
      "                                                                                                  \n",
      " block6d_project_conv (Conv2D)  (None, None, None,   259584      ['block6d_se_excite[0][0]']      \n",
      "                                208)                                                              \n",
      "                                                                                                  \n",
      " block6d_project_bn (BatchNorma  (None, None, None,   832        ['block6d_project_conv[0][0]']   \n",
      " lization)                      208)                                                              \n",
      "                                                                                                  \n",
      " block6d_drop (FixedDropout)    (None, None, None,   0           ['block6d_project_bn[0][0]']     \n",
      "                                208)                                                              \n",
      "                                                                                                  \n",
      " block6d_add (Add)              (None, None, None,   0           ['block6d_drop[0][0]',           \n",
      "                                208)                              'block6c_add[0][0]']            \n",
      "                                                                                                  \n",
      " block6e_expand_conv (Conv2D)   (None, None, None,   259584      ['block6d_add[0][0]']            \n",
      "                                1248)                                                             \n",
      "                                                                                                  \n",
      " block6e_expand_bn (BatchNormal  (None, None, None,   4992       ['block6e_expand_conv[0][0]']    \n",
      " ization)                       1248)                                                             \n",
      "                                                                                                  \n",
      " block6e_expand_activation (Act  (None, None, None,   0          ['block6e_expand_bn[0][0]']      \n",
      " ivation)                       1248)                                                             \n",
      "                                                                                                  \n",
      " block6e_dwconv (DepthwiseConv2  (None, None, None,   31200      ['block6e_expand_activation[0][0]\n",
      " D)                             1248)                            ']                               \n",
      "                                                                                                  \n",
      " block6e_bn (BatchNormalization  (None, None, None,   4992       ['block6e_dwconv[0][0]']         \n",
      " )                              1248)                                                             \n",
      "                                                                                                  \n",
      " block6e_activation (Activation  (None, None, None,   0          ['block6e_bn[0][0]']             \n",
      " )                              1248)                                                             \n",
      "                                                                                                  \n",
      " block6e_se_squeeze (GlobalAver  (None, 1248)        0           ['block6e_activation[0][0]']     \n",
      " agePooling2D)                                                                                    \n",
      "                                                                                                  \n",
      " block6e_se_reshape (Reshape)   (None, 1, 1, 1248)   0           ['block6e_se_squeeze[0][0]']     \n",
      "                                                                                                  \n",
      " block6e_se_reduce (Conv2D)     (None, 1, 1, 52)     64948       ['block6e_se_reshape[0][0]']     \n",
      "                                                                                                  \n",
      " block6e_se_expand (Conv2D)     (None, 1, 1, 1248)   66144       ['block6e_se_reduce[0][0]']      \n",
      "                                                                                                  \n",
      " block6e_se_excite (Multiply)   (None, None, None,   0           ['block6e_activation[0][0]',     \n",
      "                                1248)                             'block6e_se_expand[0][0]']      \n"
     ]
    },
    {
     "name": "stdout",
     "output_type": "stream",
     "text": [
      "                                                                                                  \n",
      " block6e_project_conv (Conv2D)  (None, None, None,   259584      ['block6e_se_excite[0][0]']      \n",
      "                                208)                                                              \n",
      "                                                                                                  \n",
      " block6e_project_bn (BatchNorma  (None, None, None,   832        ['block6e_project_conv[0][0]']   \n",
      " lization)                      208)                                                              \n",
      "                                                                                                  \n",
      " block6e_drop (FixedDropout)    (None, None, None,   0           ['block6e_project_bn[0][0]']     \n",
      "                                208)                                                              \n",
      "                                                                                                  \n",
      " block6e_add (Add)              (None, None, None,   0           ['block6e_drop[0][0]',           \n",
      "                                208)                              'block6d_add[0][0]']            \n",
      "                                                                                                  \n",
      " block7a_expand_conv (Conv2D)   (None, None, None,   259584      ['block6e_add[0][0]']            \n",
      "                                1248)                                                             \n",
      "                                                                                                  \n",
      " block7a_expand_bn (BatchNormal  (None, None, None,   4992       ['block7a_expand_conv[0][0]']    \n",
      " ization)                       1248)                                                             \n",
      "                                                                                                  \n",
      " block7a_expand_activation (Act  (None, None, None,   0          ['block7a_expand_bn[0][0]']      \n",
      " ivation)                       1248)                                                             \n",
      "                                                                                                  \n",
      " block7a_dwconv (DepthwiseConv2  (None, None, None,   11232      ['block7a_expand_activation[0][0]\n",
      " D)                             1248)                            ']                               \n",
      "                                                                                                  \n",
      " block7a_bn (BatchNormalization  (None, None, None,   4992       ['block7a_dwconv[0][0]']         \n",
      " )                              1248)                                                             \n",
      "                                                                                                  \n",
      " block7a_activation (Activation  (None, None, None,   0          ['block7a_bn[0][0]']             \n",
      " )                              1248)                                                             \n",
      "                                                                                                  \n",
      " block7a_se_squeeze (GlobalAver  (None, 1248)        0           ['block7a_activation[0][0]']     \n",
      " agePooling2D)                                                                                    \n",
      "                                                                                                  \n",
      " block7a_se_reshape (Reshape)   (None, 1, 1, 1248)   0           ['block7a_se_squeeze[0][0]']     \n",
      "                                                                                                  \n",
      " block7a_se_reduce (Conv2D)     (None, 1, 1, 52)     64948       ['block7a_se_reshape[0][0]']     \n",
      "                                                                                                  \n",
      " block7a_se_expand (Conv2D)     (None, 1, 1, 1248)   66144       ['block7a_se_reduce[0][0]']      \n",
      "                                                                                                  \n",
      " block7a_se_excite (Multiply)   (None, None, None,   0           ['block7a_activation[0][0]',     \n",
      "                                1248)                             'block7a_se_expand[0][0]']      \n",
      "                                                                                                  \n",
      " block7a_project_conv (Conv2D)  (None, None, None,   439296      ['block7a_se_excite[0][0]']      \n",
      "                                352)                                                              \n",
      "                                                                                                  \n",
      " block7a_project_bn (BatchNorma  (None, None, None,   1408       ['block7a_project_conv[0][0]']   \n",
      " lization)                      352)                                                              \n",
      "                                                                                                  \n",
      " block7b_expand_conv (Conv2D)   (None, None, None,   743424      ['block7a_project_bn[0][0]']     \n",
      "                                2112)                                                             \n",
      "                                                                                                  \n",
      " block7b_expand_bn (BatchNormal  (None, None, None,   8448       ['block7b_expand_conv[0][0]']    \n",
      " ization)                       2112)                                                             \n",
      "                                                                                                  \n",
      " block7b_expand_activation (Act  (None, None, None,   0          ['block7b_expand_bn[0][0]']      \n",
      " ivation)                       2112)                                                             \n",
      "                                                                                                  \n",
      " block7b_dwconv (DepthwiseConv2  (None, None, None,   19008      ['block7b_expand_activation[0][0]\n",
      " D)                             2112)                            ']                               \n",
      "                                                                                                  \n",
      " block7b_bn (BatchNormalization  (None, None, None,   8448       ['block7b_dwconv[0][0]']         \n",
      " )                              2112)                                                             \n",
      "                                                                                                  \n",
      " block7b_activation (Activation  (None, None, None,   0          ['block7b_bn[0][0]']             \n",
      " )                              2112)                                                             \n",
      "                                                                                                  \n",
      " block7b_se_squeeze (GlobalAver  (None, 2112)        0           ['block7b_activation[0][0]']     \n",
      " agePooling2D)                                                                                    \n",
      "                                                                                                  \n",
      " block7b_se_reshape (Reshape)   (None, 1, 1, 2112)   0           ['block7b_se_squeeze[0][0]']     \n",
      "                                                                                                  \n",
      " block7b_se_reduce (Conv2D)     (None, 1, 1, 88)     185944      ['block7b_se_reshape[0][0]']     \n",
      "                                                                                                  \n",
      " block7b_se_expand (Conv2D)     (None, 1, 1, 2112)   187968      ['block7b_se_reduce[0][0]']      \n",
      "                                                                                                  \n",
      " block7b_se_excite (Multiply)   (None, None, None,   0           ['block7b_activation[0][0]',     \n",
      "                                2112)                             'block7b_se_expand[0][0]']      \n",
      "                                                                                                  \n",
      " block7b_project_conv (Conv2D)  (None, None, None,   743424      ['block7b_se_excite[0][0]']      \n",
      "                                352)                                                              \n",
      "                                                                                                  \n",
      " block7b_project_bn (BatchNorma  (None, None, None,   1408       ['block7b_project_conv[0][0]']   \n"
     ]
    },
    {
     "name": "stdout",
     "output_type": "stream",
     "text": [
      " lization)                      352)                                                              \n",
      "                                                                                                  \n",
      " block7b_drop (FixedDropout)    (None, None, None,   0           ['block7b_project_bn[0][0]']     \n",
      "                                352)                                                              \n",
      "                                                                                                  \n",
      " block7b_add (Add)              (None, None, None,   0           ['block7b_drop[0][0]',           \n",
      "                                352)                              'block7a_project_bn[0][0]']     \n",
      "                                                                                                  \n",
      " top_conv (Conv2D)              (None, None, None,   495616      ['block7b_add[0][0]']            \n",
      "                                1408)                                                             \n",
      "                                                                                                  \n",
      " top_bn (BatchNormalization)    (None, None, None,   5632        ['top_conv[0][0]']               \n",
      "                                1408)                                                             \n",
      "                                                                                                  \n",
      " top_activation (Activation)    (None, None, None,   0           ['top_bn[0][0]']                 \n",
      "                                1408)                                                             \n",
      "                                                                                                  \n",
      " global_average_pooling2d_2 (Gl  (None, 1408)        0           ['top_activation[0][0]']         \n",
      " obalAveragePooling2D)                                                                            \n",
      "                                                                                                  \n",
      " dense_3 (Dense)                (None, 256)          360704      ['global_average_pooling2d_2[0][0\n",
      "                                                                 ]']                              \n",
      "                                                                                                  \n",
      " dense_4 (Dense)                (None, 5)            1285        ['dense_3[0][0]']                \n",
      "                                                                                                  \n",
      "==================================================================================================\n",
      "Total params: 8,130,551\n",
      "Trainable params: 1,604,549\n",
      "Non-trainable params: 6,526,002\n",
      "__________________________________________________________________________________________________\n"
     ]
    }
   ],
   "source": [
    "# print model structure\n",
    "model.summary()"
   ]
  },
  {
   "cell_type": "code",
   "execution_count": 269,
   "id": "8db11dac",
   "metadata": {
    "pycharm": {
     "name": "#%%\n"
    }
   },
   "outputs": [],
   "source": [
    "import time\n",
    "# log storage path\n",
    "now = int(time.time())\n",
    "timeArray = time.localtime(now)\n",
    "otherStyleTime = time.strftime(\"%Y-%m-%d-%H-%M-%S\", timeArray)\n",
    "log_dir = './logs/' + CNN_name[CNN_Serial_number] + '_'+augmentation_name[augmentation]+'_'+otherStyleTime\n"
   ]
  },
  {
   "cell_type": "code",
   "execution_count": 270,
   "id": "dc3373fe",
   "metadata": {
    "pycharm": {
     "name": "#%%\n"
    }
   },
   "outputs": [],
   "source": [
    "tbCallBack = TensorBoard(log_dir=log_dir, histogram_freq=1, update_freq=\"epoch\", )"
   ]
  },
  {
   "cell_type": "code",
   "execution_count": 271,
   "id": "37ab781e",
   "metadata": {
    "pycharm": {
     "name": "#%%\n"
    }
   },
   "outputs": [],
   "source": [
    "#Save path of optimal model\n",
    "filePath = './' + CNN_name[CNN_Serial_number] + '_'+augmentation_name[augmentation]+'_best.h5'\n"
   ]
  },
  {
   "cell_type": "code",
   "execution_count": 272,
   "id": "9fbea871",
   "metadata": {
    "pycharm": {
     "name": "#%%\n"
    }
   },
   "outputs": [],
   "source": [
    "#If there is an upgrade, it will be overwritten once\n",
    "checkpoint = ModelCheckpoint(filePath, monitor='val_acc', verbose=1, save_best_only=True, mode='max', save_freq='epoch')\n",
    "\n"
   ]
  },
  {
   "cell_type": "code",
   "execution_count": 273,
   "id": "c62a7d44",
   "metadata": {
    "pycharm": {
     "name": "#%%\n"
    }
   },
   "outputs": [],
   "source": [
    "callbacks_list = [checkpoint, tbCallBack]\n"
   ]
  },
  {
   "cell_type": "code",
   "execution_count": 274,
   "id": "1d4a65db",
   "metadata": {
    "scrolled": true,
    "pycharm": {
     "name": "#%%\n"
    }
   },
   "outputs": [
    {
     "name": "stdout",
     "output_type": "stream",
     "text": [
      "Epoch 1/25\n"
     ]
    },
    {
     "name": "stderr",
     "output_type": "stream",
     "text": [
      "2023-05-01 13:58:28.245037: I tensorflow/core/common_runtime/executor.cc:1197] [/device:CPU:0] (DEBUG INFO) Executor start aborting (this does not indicate an error and you can ignore this message): INVALID_ARGUMENT: You must feed a value for placeholder tensor 'Placeholder/_0' with dtype int32\n",
      "\t [[{{node Placeholder/_0}}]]\n"
     ]
    },
    {
     "name": "stdout",
     "output_type": "stream",
     "text": [
      "217/216 [==============================] - ETA: 0s - loss: 1.5172 - acc: 0.3480 - precision_2: 0.7636 - recall_2: 0.0061"
     ]
    },
    {
     "name": "stderr",
     "output_type": "stream",
     "text": [
      "2023-05-01 14:03:29.645755: I tensorflow/core/common_runtime/executor.cc:1197] [/device:CPU:0] (DEBUG INFO) Executor start aborting (this does not indicate an error and you can ignore this message): INVALID_ARGUMENT: You must feed a value for placeholder tensor 'Placeholder/_0' with dtype int32\n",
      "\t [[{{node Placeholder/_0}}]]\n"
     ]
    },
    {
     "name": "stdout",
     "output_type": "stream",
     "text": [
      "\n",
      "Epoch 1: val_acc improved from -inf to 0.39109, saving model to ./EfficientNet_B2_No_Aug_best.h5\n",
      "216/216 [==============================] - 322s 1s/step - loss: 1.5172 - acc: 0.3480 - precision_2: 0.7636 - recall_2: 0.0061 - val_loss: 1.4967 - val_acc: 0.3911 - val_precision_2: 1.0000 - val_recall_2: 0.0074\n",
      "Epoch 2/25\n",
      "217/216 [==============================] - ETA: 0s - loss: 1.3028 - acc: 0.5506 - precision_2: 0.9062 - recall_2: 0.0738\n",
      "Epoch 2: val_acc improved from 0.39109 to 0.46535, saving model to ./EfficientNet_B2_No_Aug_best.h5\n",
      "216/216 [==============================] - 312s 1s/step - loss: 1.3028 - acc: 0.5506 - precision_2: 0.9062 - recall_2: 0.0738 - val_loss: 1.3677 - val_acc: 0.4653 - val_precision_2: 0.8636 - val_recall_2: 0.0941\n",
      "Epoch 3/25\n",
      "217/216 [==============================] - ETA: 0s - loss: 1.1431 - acc: 0.6348 - precision_2: 0.9198 - recall_2: 0.1753\n",
      "Epoch 3: val_acc improved from 0.46535 to 0.51980, saving model to ./EfficientNet_B2_No_Aug_best.h5\n",
      "216/216 [==============================] - 312s 1s/step - loss: 1.1431 - acc: 0.6348 - precision_2: 0.9198 - recall_2: 0.1753 - val_loss: 1.2653 - val_acc: 0.5198 - val_precision_2: 0.9079 - val_recall_2: 0.1708\n",
      "Epoch 4/25\n",
      "217/216 [==============================] - ETA: 0s - loss: 0.9986 - acc: 0.7065 - precision_2: 0.9252 - recall_2: 0.2958\n",
      "Epoch 4: val_acc improved from 0.51980 to 0.54703, saving model to ./EfficientNet_B2_No_Aug_best.h5\n",
      "216/216 [==============================] - 311s 1s/step - loss: 0.9986 - acc: 0.7065 - precision_2: 0.9252 - recall_2: 0.2958 - val_loss: 1.1645 - val_acc: 0.5470 - val_precision_2: 0.8772 - val_recall_2: 0.2475\n",
      "Epoch 5/25\n",
      "217/216 [==============================] - ETA: 0s - loss: 0.8823 - acc: 0.7393 - precision_2: 0.9308 - recall_2: 0.4053\n",
      "Epoch 5: val_acc improved from 0.54703 to 0.61139, saving model to ./EfficientNet_B2_No_Aug_best.h5\n",
      "216/216 [==============================] - 311s 1s/step - loss: 0.8823 - acc: 0.7393 - precision_2: 0.9308 - recall_2: 0.4053 - val_loss: 1.0892 - val_acc: 0.6114 - val_precision_2: 0.8431 - val_recall_2: 0.3193\n",
      "Epoch 6/25\n",
      "217/216 [==============================] - ETA: 0s - loss: 0.7842 - acc: 0.7770 - precision_2: 0.9348 - recall_2: 0.4939\n",
      "Epoch 6: val_acc improved from 0.61139 to 0.62129, saving model to ./EfficientNet_B2_No_Aug_best.h5\n",
      "216/216 [==============================] - 311s 1s/step - loss: 0.7842 - acc: 0.7770 - precision_2: 0.9348 - recall_2: 0.4939 - val_loss: 1.0105 - val_acc: 0.6213 - val_precision_2: 0.8708 - val_recall_2: 0.3837\n",
      "Epoch 7/25\n",
      "217/216 [==============================] - ETA: 0s - loss: 0.7141 - acc: 0.8006 - precision_2: 0.9208 - recall_2: 0.5629\n",
      "Epoch 7: val_acc improved from 0.62129 to 0.63119, saving model to ./EfficientNet_B2_No_Aug_best.h5\n",
      "216/216 [==============================] - 312s 1s/step - loss: 0.7141 - acc: 0.8006 - precision_2: 0.9208 - recall_2: 0.5629 - val_loss: 0.9782 - val_acc: 0.6312 - val_precision_2: 0.8454 - val_recall_2: 0.4332\n",
      "Epoch 8/25\n",
      "217/216 [==============================] - ETA: 0s - loss: 0.6487 - acc: 0.8127 - precision_2: 0.9307 - recall_2: 0.6211\n",
      "Epoch 8: val_acc improved from 0.63119 to 0.66584, saving model to ./EfficientNet_B2_No_Aug_best.h5\n",
      "216/216 [==============================] - 311s 1s/step - loss: 0.6487 - acc: 0.8127 - precision_2: 0.9307 - recall_2: 0.6211 - val_loss: 0.9135 - val_acc: 0.6658 - val_precision_2: 0.8540 - val_recall_2: 0.4777\n",
      "Epoch 9/25\n",
      "217/216 [==============================] - ETA: 0s - loss: 0.5863 - acc: 0.8345 - precision_2: 0.9338 - recall_2: 0.6794\n",
      "Epoch 9: val_acc improved from 0.66584 to 0.67574, saving model to ./EfficientNet_B2_No_Aug_best.h5\n",
      "216/216 [==============================] - 311s 1s/step - loss: 0.5863 - acc: 0.8345 - precision_2: 0.9338 - recall_2: 0.6794 - val_loss: 0.8871 - val_acc: 0.6757 - val_precision_2: 0.8367 - val_recall_2: 0.5198\n",
      "Epoch 10/25\n",
      "217/216 [==============================] - ETA: 0s - loss: 0.5493 - acc: 0.8401 - precision_2: 0.9306 - recall_2: 0.7039\n",
      "Epoch 10: val_acc improved from 0.67574 to 0.72277, saving model to ./EfficientNet_B2_No_Aug_best.h5\n",
      "216/216 [==============================] - 313s 1s/step - loss: 0.5493 - acc: 0.8401 - precision_2: 0.9306 - recall_2: 0.7039 - val_loss: 0.8472 - val_acc: 0.7228 - val_precision_2: 0.8599 - val_recall_2: 0.5470\n",
      "Epoch 11/25\n",
      "217/216 [==============================] - ETA: 0s - loss: 0.5098 - acc: 0.8528 - precision_2: 0.9320 - recall_2: 0.7388\n",
      "Epoch 11: val_acc did not improve from 0.72277\n",
      "216/216 [==============================] - 312s 1s/step - loss: 0.5098 - acc: 0.8528 - precision_2: 0.9320 - recall_2: 0.7388 - val_loss: 0.8368 - val_acc: 0.7005 - val_precision_2: 0.8316 - val_recall_2: 0.5866\n",
      "Epoch 12/25\n",
      "217/216 [==============================] - ETA: 0s - loss: 0.4752 - acc: 0.8603 - precision_2: 0.9303 - recall_2: 0.7558\n",
      "Epoch 12: val_acc did not improve from 0.72277\n",
      "216/216 [==============================] - 317s 1s/step - loss: 0.4752 - acc: 0.8603 - precision_2: 0.9303 - recall_2: 0.7558 - val_loss: 0.8077 - val_acc: 0.7203 - val_precision_2: 0.8571 - val_recall_2: 0.5941\n",
      "Epoch 13/25\n",
      "217/216 [==============================] - ETA: 0s - loss: 0.4536 - acc: 0.8651 - precision_2: 0.9301 - recall_2: 0.7693\n",
      "Epoch 13: val_acc did not improve from 0.72277\n",
      "216/216 [==============================] - 335s 2s/step - loss: 0.4536 - acc: 0.8651 - precision_2: 0.9301 - recall_2: 0.7693 - val_loss: 0.8069 - val_acc: 0.7005 - val_precision_2: 0.8148 - val_recall_2: 0.5990\n",
      "Epoch 14/25\n",
      "217/216 [==============================] - ETA: 0s - loss: 0.4209 - acc: 0.8785 - precision_2: 0.9359 - recall_2: 0.7943\n",
      "Epoch 14: val_acc did not improve from 0.72277\n",
      "216/216 [==============================] - 343s 2s/step - loss: 0.4209 - acc: 0.8785 - precision_2: 0.9359 - recall_2: 0.7943 - val_loss: 0.8018 - val_acc: 0.7104 - val_precision_2: 0.8041 - val_recall_2: 0.5891\n",
      "Epoch 15/25\n",
      "217/216 [==============================] - ETA: 0s - loss: 0.4080 - acc: 0.8757 - precision_2: 0.9374 - recall_2: 0.8015\n",
      "Epoch 15: val_acc did not improve from 0.72277\n",
      "216/216 [==============================] - 331s 2s/step - loss: 0.4080 - acc: 0.8757 - precision_2: 0.9374 - recall_2: 0.8015 - val_loss: 0.7759 - val_acc: 0.7153 - val_precision_2: 0.8349 - val_recall_2: 0.6510\n",
      "Epoch 16/25\n",
      "217/216 [==============================] - ETA: 0s - loss: 0.3824 - acc: 0.8848 - precision_2: 0.9366 - recall_2: 0.8185\n",
      "Epoch 16: val_acc improved from 0.72277 to 0.74010, saving model to ./EfficientNet_B2_No_Aug_best.h5\n",
      "216/216 [==============================] - 328s 2s/step - loss: 0.3824 - acc: 0.8848 - precision_2: 0.9366 - recall_2: 0.8185 - val_loss: 0.7595 - val_acc: 0.7401 - val_precision_2: 0.8452 - val_recall_2: 0.6485\n",
      "Epoch 17/25\n",
      "217/216 [==============================] - ETA: 0s - loss: 0.3639 - acc: 0.8886 - precision_2: 0.9399 - recall_2: 0.8274\n",
      "Epoch 17: val_acc did not improve from 0.74010\n",
      "216/216 [==============================] - 332s 2s/step - loss: 0.3639 - acc: 0.8886 - precision_2: 0.9399 - recall_2: 0.8274 - val_loss: 0.7865 - val_acc: 0.7203 - val_precision_2: 0.8070 - val_recall_2: 0.6312\n",
      "Epoch 18/25\n",
      "217/216 [==============================] - ETA: 0s - loss: 0.3567 - acc: 0.8926 - precision_2: 0.9368 - recall_2: 0.8333\n",
      "Epoch 18: val_acc did not improve from 0.74010\n",
      "216/216 [==============================] - 336s 2s/step - loss: 0.3567 - acc: 0.8926 - precision_2: 0.9368 - recall_2: 0.8333 - val_loss: 0.7237 - val_acc: 0.7351 - val_precision_2: 0.8323 - val_recall_2: 0.6757\n",
      "Epoch 19/25\n",
      "217/216 [==============================] - ETA: 0s - loss: 0.3340 - acc: 0.8988 - precision_2: 0.9409 - recall_2: 0.8450\n",
      "Epoch 19: val_acc improved from 0.74010 to 0.75000, saving model to ./EfficientNet_B2_No_Aug_best.h5\n",
      "216/216 [==============================] - 325s 1s/step - loss: 0.3340 - acc: 0.8988 - precision_2: 0.9409 - recall_2: 0.8450 - val_loss: 0.7729 - val_acc: 0.7500 - val_precision_2: 0.8298 - val_recall_2: 0.6757\n",
      "Epoch 20/25\n",
      "217/216 [==============================] - ETA: 0s - loss: 0.3170 - acc: 0.9051 - precision_2: 0.9485 - recall_2: 0.8548\n",
      "Epoch 20: val_acc did not improve from 0.75000\n",
      "216/216 [==============================] - 325s 1s/step - loss: 0.3170 - acc: 0.9051 - precision_2: 0.9485 - recall_2: 0.8548 - val_loss: 0.7712 - val_acc: 0.7228 - val_precision_2: 0.8000 - val_recall_2: 0.6634\n"
     ]
    },
    {
     "name": "stdout",
     "output_type": "stream",
     "text": [
      "Epoch 21/25\n",
      "217/216 [==============================] - ETA: 0s - loss: 0.3108 - acc: 0.9072 - precision_2: 0.9434 - recall_2: 0.8574\n",
      "Epoch 21: val_acc did not improve from 0.75000\n",
      "216/216 [==============================] - 328s 2s/step - loss: 0.3108 - acc: 0.9072 - precision_2: 0.9434 - recall_2: 0.8574 - val_loss: 0.7149 - val_acc: 0.7450 - val_precision_2: 0.8275 - val_recall_2: 0.7005\n",
      "Epoch 22/25\n",
      "217/216 [==============================] - ETA: 0s - loss: 0.3040 - acc: 0.9070 - precision_2: 0.9444 - recall_2: 0.8613\n",
      "Epoch 22: val_acc did not improve from 0.75000\n",
      "216/216 [==============================] - 335s 2s/step - loss: 0.3040 - acc: 0.9070 - precision_2: 0.9444 - recall_2: 0.8613 - val_loss: 0.7315 - val_acc: 0.7327 - val_precision_2: 0.8299 - val_recall_2: 0.6881\n",
      "Epoch 23/25\n",
      "217/216 [==============================] - ETA: 0s - loss: 0.2826 - acc: 0.9167 - precision_2: 0.9482 - recall_2: 0.8717\n",
      "Epoch 23: val_acc did not improve from 0.75000\n",
      "216/216 [==============================] - 326s 2s/step - loss: 0.2826 - acc: 0.9167 - precision_2: 0.9482 - recall_2: 0.8717 - val_loss: 0.7376 - val_acc: 0.7401 - val_precision_2: 0.8150 - val_recall_2: 0.6980\n",
      "Epoch 24/25\n",
      "217/216 [==============================] - ETA: 0s - loss: 0.2805 - acc: 0.9146 - precision_2: 0.9462 - recall_2: 0.8743\n",
      "Epoch 24: val_acc did not improve from 0.75000\n",
      "216/216 [==============================] - 318s 1s/step - loss: 0.2805 - acc: 0.9146 - precision_2: 0.9462 - recall_2: 0.8743 - val_loss: 0.7734 - val_acc: 0.7426 - val_precision_2: 0.8116 - val_recall_2: 0.6931\n",
      "Epoch 25/25\n",
      "217/216 [==============================] - ETA: 0s - loss: 0.2731 - acc: 0.9148 - precision_2: 0.9456 - recall_2: 0.8775\n",
      "Epoch 25: val_acc improved from 0.75000 to 0.76980, saving model to ./EfficientNet_B2_No_Aug_best.h5\n",
      "216/216 [==============================] - 327s 2s/step - loss: 0.2731 - acc: 0.9148 - precision_2: 0.9456 - recall_2: 0.8775 - val_loss: 0.7377 - val_acc: 0.7698 - val_precision_2: 0.8166 - val_recall_2: 0.7054\n"
     ]
    }
   ],
   "source": [
    "# train on the dataset\n",
    "history = model.fit(train_generator, \n",
    "                    validation_data=valid_generator,\n",
    "                    epochs=EPOCH,\n",
    "                    steps_per_epoch=train_generator.n / batch_size,\n",
    "                    validation_steps=valid_generator.n / batch_size,\n",
    "                    verbose = verbose,\n",
    "                    callbacks = callbacks_list)"
   ]
  },
  {
   "cell_type": "code",
   "execution_count": null,
   "id": "5bdb894b",
   "metadata": {
    "pycharm": {
     "name": "#%%\n"
    }
   },
   "outputs": [],
   "source": [
    "\n"
   ]
  },
  {
   "cell_type": "code",
   "execution_count": 276,
   "id": "2ff9f7df",
   "metadata": {
    "pycharm": {
     "name": "#%%\n"
    }
   },
   "outputs": [
    {
     "data": {
      "text/plain": [
       "'./p_trained/EfficientNet_B2_No_Aug_2023-05-01-13-58-18_best.h5'"
      ]
     },
     "execution_count": 276,
     "metadata": {},
     "output_type": "execute_result"
    }
   ],
   "source": [
    "trained_filePath = './p_trained/' + CNN_name[CNN_Serial_number] + '_'+augmentation_name[augmentation]+'_'+otherStyleTime+'_best.h5'\n"
   ]
  },
  {
   "cell_type": "code",
   "execution_count": 277,
   "id": "4221d4b9",
   "metadata": {
    "pycharm": {
     "name": "#%%\n"
    }
   },
   "outputs": [],
   "source": [
    "from joblib import Parallel, delayed\n",
    "import joblib\n",
    "\n",
    "\n",
    "# Save the model as a pickle in a file\n",
    "joblib.dump(model, trained_filePath)"
   ]
  },
  {
   "cell_type": "code",
   "execution_count": 289,
   "id": "1fdce338",
   "metadata": {
    "pycharm": {
     "name": "#%%\n"
    }
   },
   "outputs": [
    {
     "data": {
      "image/png": "[encoded data removed]",
      "text/plain": [
       "<Figure size 1200x1000 with 1 Axes>"
      ]
     },
     "metadata": {},
     "output_type": "display_data"
    }
   ],
   "source": [
    "# Visualization of Accuracy and loss\n",
    "# Loss\n",
    "train_loss = history.history['loss']\n",
    "val_loss = history.history['val_loss']\n",
    "\n",
    "epochs_range = range(EPOCH)\n",
    "\n",
    "plt.figure(figsize=(12, 10))\n",
    "plt.plot(epochs_range, train_loss, label=\"Training Loss\")\n",
    "plt.plot(epochs_range, val_loss, label=\"Validation Loss\")\n",
    "plt.legend(loc='upper left')\n",
    "plt.title('Train and Validation Loss ' + CNN_name[CNN_Serial_number])\n",
    "\n",
    "plt.show()"
   ]
  },
  {
   "cell_type": "code",
   "execution_count": 290,
   "id": "883fa673",
   "metadata": {
    "pycharm": {
     "name": "#%%\n"
    }
   },
   "outputs": [
    {
     "data": {
      "image/png": "[encoded data removed]",
      "text/plain": [
       "<Figure size 500x500 with 1 Axes>"
      ]
     },
     "metadata": {},
     "output_type": "display_data"
    }
   ],
   "source": [
    "# Accuracy\n",
    "train_acc = history.history['acc']\n",
    "val_acc = history.history['val_acc']\n",
    "\n",
    "epochs_range = range(EPOCH)\n",
    "\n",
    "plt.figure(figsize=(5, 5))\n",
    "plt.plot(epochs_range, train_acc, label=\"Training Accuracy\")\n",
    "plt.plot(epochs_range, val_acc, label=\"Validation Accuracy\")\n",
    "plt.legend(loc='upper left')\n",
    "plt.title('Train and Validation Acc ' + CNN_name[CNN_Serial_number])\n",
    "\n",
    "plt.show()"
   ]
  },
  {
   "cell_type": "code",
   "execution_count": 297,
   "id": "0ab59396",
   "metadata": {
    "pycharm": {
     "name": "#%%\n"
    }
   },
   "outputs": [
    {
     "name": "stdout",
     "output_type": "stream",
     "text": [
      "Found 5 images belonging to 5 classes.\n"
     ]
    }
   ],
   "source": [
    "# Image test\n",
    "\n",
    "test_root = './test/'\n",
    "# Load the model from the file\n",
    "from_model = joblib.load(trained_filePath)\n",
    "test_datagen = ImageDataGenerator(\n",
    "    rescale=1. / 255\n",
    ")\n",
    "test_genertor = test_datagen.flow_from_directory(\n",
    "    test_root,\n",
    "    target_size=(IMG_WIDTH, IMG_HEIGHT),\n",
    "    batch_size=batch_size,\n",
    ")\n",
    "\n",
    "result = from_model.compile(optimizer='adam', loss='categorical_crossentropy', metrics=['acc', metrics.Precision(), metrics.Recall()])\n",
    "\n"
   ]
  },
  {
   "cell_type": "code",
   "execution_count": 314,
   "id": "62ef8390",
   "metadata": {
    "pycharm": {
     "name": "#%%\n"
    }
   },
   "outputs": [
    {
     "name": "stderr",
     "output_type": "stream",
     "text": [
      "2023-05-01 17:16:01.788108: I tensorflow/core/common_runtime/executor.cc:1197] [/device:CPU:0] (DEBUG INFO) Executor start aborting (this does not indicate an error and you can ignore this message): INVALID_ARGUMENT: You must feed a value for placeholder tensor 'Placeholder/_0' with dtype int32\n",
      "\t [[{{node Placeholder/_0}}]]\n"
     ]
    },
    {
     "name": "stdout",
     "output_type": "stream",
     "text": [
      "1/1 [==============================] - 0s 287ms/step - loss: 1.1024 - acc: 0.8000 - precision_2: 0.8000 - recall_2: 0.8000\n"
     ]
    },
    {
     "data": {
      "text/plain": [
       "[1.1024341583251953, 0.800000011920929, 0.800000011920929, 0.800000011920929]"
      ]
     },
     "execution_count": 314,
     "metadata": {},
     "output_type": "execute_result"
    }
   ],
   "source": [
    "model.evaluate(test_genertor, \n",
    "               max_queue_size=10, workers=1, use_multiprocessing=False, verbose=verbose)\n",
    "\n"
   ]
  },
  {
   "cell_type": "code",
   "execution_count": 310,
   "id": "25aaec91",
   "metadata": {
    "pycharm": {
     "name": "#%%\n"
    }
   },
   "outputs": [
    {
     "name": "stdout",
     "output_type": "stream",
     "text": [
      "<class 'float'>\n",
      "0.15625\n"
     ]
    }
   ],
   "source": [
    "print(type(test_genertor.n / batch_size))\n",
    "print(test_genertor.n / batch_size)"
   ]
  },
  {
   "cell_type": "code",
   "execution_count": null,
   "id": "291369ac",
   "metadata": {
    "pycharm": {
     "name": "#%%\n"
    }
   },
   "outputs": [],
   "source": [
    "# confusion matrix\n",
    "display_labels = range(0, NB_CLASS)"
   ]
  },
  {
   "cell_type": "code",
   "execution_count": null,
   "id": "ef7b84f8",
   "metadata": {
    "pycharm": {
     "name": "#%%\n"
    }
   },
   "outputs": [],
   "source": [
    "show_figure = False\n",
    "normalization = True"
   ]
  },
  {
   "cell_type": "code",
   "execution_count": 315,
   "id": "0400309a",
   "metadata": {
    "pycharm": {
     "name": "#%%\n"
    }
   },
   "outputs": [],
   "source": [
    "def test(picname, model):\n",
    "    keras.backend.clear_session()\n",
    "    img_path = picname\n",
    "    test_image = image.load_img(img_path, target_size=(IMG_WIDTH, IMG_HEIGHT))\n",
    "    test_image = image.img_to_array(test_image)\n",
    "    test_image = np.expand_dims(test_image, axis=0)\n",
    "    test_image_test_image/255\n",
    "    predict = model.predict(tesy_image)\n",
    "    preds = np.argmax(predict, axis=1)[0]\n",
    "    return preds"
   ]
  },
  {
   "cell_type": "code",
   "execution_count": 359,
   "id": "6dfca85a",
   "metadata": {
    "pycharm": {
     "name": "#%%\n"
    }
   },
   "outputs": [
    {
     "name": "stdout",
     "output_type": "stream",
     "text": [
      "min: 0.0 max: 1.0\n"
     ]
    },
    {
     "data": {
      "image/png": "[encoded data removed]",
      "text/plain": [
       "<Figure size 4000x2000 with 1 Axes>"
      ]
     },
     "metadata": {},
     "output_type": "display_data"
    },
    {
     "name": "stdout",
     "output_type": "stream",
     "text": [
      "['bart_simpson', 'homer_simpson', 'lisa_simpson', 'maggie_simpson', 'marge_simpson']\n"
     ]
    }
   ],
   "source": [
    "labels = [None] * len(test_gen.class_indices)\n",
    "for k, v in test_gen.class_indices.items():\n",
    "    labels[v] = k\n",
    "\n",
    "# should be a strangely colored image (due to VGG weights being BGR)\n",
    "for x, y in test_gen:\n",
    "    print(\"min:\", x[0].min(), \"max:\", x[0].max())\n",
    "    plt.title(labels[np.argmax(y[0])])\n",
    "    plt.imshow(x[0])\n",
    "    plt.show()\n",
    "    break\n",
    "print(labels)"
   ]
  },
  {
   "cell_type": "code",
   "execution_count": 317,
   "id": "7afccf3d",
   "metadata": {
    "pycharm": {
     "name": "#%%\n"
    }
   },
   "outputs": [
    {
     "name": "stdout",
     "output_type": "stream",
     "text": [
      "Found 5 images belonging to 5 classes.\n",
      "{'bart_simpson': 0, 'homer_simpson': 1, 'lisa_simpson': 2, 'maggie_simpson': 3, 'marge_simpson': 4}\n"
     ]
    }
   ],
   "source": [
    "test_gen = test_datagen.flow_from_directory(test_root, target_size=(IMG_WIDTH, IMG_HEIGHT))\n",
    "print(test_gen.class_indices)"
   ]
  },
  {
   "cell_type": "code",
   "execution_count": 324,
   "id": "de91e0bb",
   "metadata": {
    "pycharm": {
     "name": "#%%\n"
    }
   },
   "outputs": [],
   "source": [
    "import itertools\n",
    "\n",
    "\n",
    "def plot_confusion_matrix(cm, classes, normalize=False, title='Confusion matrix', cmap=plt.cm.Blues):\n",
    "    if normalize:\n",
    "        cm = cm.astype('float') / cm.sum(axis=1)[:, np.newaxis]\n",
    "        print(\"Normalized confusion matrix\")\n",
    "    else:\n",
    "        print('Confusion matrix, without normalization')\n",
    "\n",
    "    print(cm)\n",
    "    plt.rcParams[\"figure.figsize\"] = (40,20)\n",
    "    plt.imshow(cm, interpolation='nearest', cmap=cmap)\n",
    "    plt.title(title)\n",
    "    plt.colorbar()\n",
    "    tick_marks = np.arange(len(classes))\n",
    "    plt.xticks(tick_marks, classes, rotation=45)\n",
    "    plt.yticks(tick_marks, classes)\n",
    "\n",
    "    fmt = '.2f' if normalize else 'd'\n",
    "    thresh = cm.max() / 2.\n",
    "    for i, j in itertools.product(range(cm.shape[0]), range(cm.shape[1])):\n",
    "        plt.text(j, i, format(cm[i, j], fmt),\n",
    "               horizontalalignment=\"center\",\n",
    "               color=\"white\" if cm[i, j] > thresh else \"black\")\n",
    "  \n",
    "    plt.tight_layout()\n",
    "    plt.ylabel('True label')\n",
    "    plt.xlabel('Predicted label')\n",
    "    plt.show()"
   ]
  },
  {
   "cell_type": "code",
   "execution_count": 330,
   "id": "1e156d64",
   "metadata": {
    "pycharm": {
     "name": "#%%\n"
    }
   },
   "outputs": [
    {
     "name": "stdout",
     "output_type": "stream",
     "text": [
      "['./dataset-Simpsons_Main_Characters/train_images/maggie_simpson', './dataset-Simpsons_Main_Characters/train_images/marge_simpson', './dataset-Simpsons_Main_Characters/train_images/bart_simpson', './dataset-Simpsons_Main_Characters/train_images/lisa_simpson', './dataset-Simpsons_Main_Characters/train_images/homer_simpson']\n"
     ]
    }
   ],
   "source": [
    "from glob import glob\n",
    "\n",
    "# useful for getting number of files\n",
    "image_files = glob(train_root + '/*/*.jp*g')\n",
    "test_image_files = glob(test_root + '/*/*.jp*g')\n",
    "\n",
    "# useful for getting number of classes\n",
    "folders = glob(train_root + '/*')\n",
    "print(folders)"
   ]
  },
  {
   "cell_type": "code",
   "execution_count": 366,
   "id": "686d2fba",
   "metadata": {
    "pycharm": {
     "name": "#%%\n"
    }
   },
   "outputs": [],
   "source": [
    "import os\n",
    "import json\n",
    "import glob\n",
    "from prettytable import PrettyTable\n",
    "\n",
    "\n",
    "\n",
    "\n",
    "\n",
    "class ConfusionMatrix(object):\n",
    "    def __init__(self, num_classes: int, labels: list):\n",
    "        self.matrix = np.zeros((num_classes, num_classes))\n",
    "        self.num_classes = num_classes\n",
    "        self.labels = labels\n",
    "\n",
    "    def update(self, preds, labels):\n",
    "        for p, t in zip(preds, labels):\n",
    "            self.matrix[p, t] += 1\n",
    "\n",
    "    def summary(self):\n",
    "        # calculate accuracy\n",
    "        sum_TP = 0\n",
    "        for i in range(self.num_classes):\n",
    "            sum_TP += self.matrix[i, i]\n",
    "        acc = sum_TP / np.sum(self.matrix)\n",
    "        print(\"the model accuracy is \", acc)\n",
    "\n",
    "        # precision, recall, specificity\n",
    "        table = PrettyTable()\n",
    "        table.field_names = [\"\", \"Precision\", \"Recall\", \"Specificity\", 'F1']\n",
    "        for i in range(self.num_classes):\n",
    "            TP = self.matrix[i, i]\n",
    "            FP = np.sum(self.matrix[i, :]) - TP\n",
    "            FN = np.sum(self.matrix[:, i]) - TP\n",
    "            TN = np.sum(self.matrix) - TP - FP - FN\n",
    "            Precision = round(TP / (TP + FP), 3) if TP + FP != 0 else 0.\n",
    "            Recall = round(TP / (TP + FN), 3) if TP + FN != 0 else 0.\n",
    "            Specificity = round(TN / (TN + FP), 3) if TN + FP != 0 else 0.\n",
    "            F1 = round(2*Precision*Recall/(Precision+Recall), 3) if Precision+Recall != 0 else 0.\n",
    "            table.add_row([self.labels[i], Precision, Recall, Specificity, F1])\n",
    "        print(table)\n",
    "\n",
    "    def plot(self):\n",
    "        matrix = self.matrix\n",
    "        print(matrix)\n",
    "        plt.imshow(matrix, cmap=plt.cm.Blues)\n",
    "\n",
    "        plt.xticks(range(self.num_classes), self.labels, rotation=45)\n",
    "        plt.yticks(range(self.num_classes), self.labels)\n",
    "        plt.colorbar()\n",
    "        plt.xlabel('True Labels')\n",
    "        plt.ylabel('Predicted Labels')\n",
    "        plt.title('Confusion matrix')\n",
    "\n",
    "        thresh = matrix.max() / 2\n",
    "        for x in range(self.num_classes):\n",
    "            for y in range(self.num_classes):\n",
    "                info = int(matrix[y, x])\n",
    "                plt.text(x, y, info,\n",
    "                         verticalalignment='center',\n",
    "                         horizontalalignment='center',\n",
    "                         color=\"white\" if info > thresh else \"black\")\n",
    "        plt.tight_layout()\n",
    "        plt.show()\n"
   ]
  },
  {
   "cell_type": "code",
   "execution_count": 367,
   "id": "1f77e5ef",
   "metadata": {
    "pycharm": {
     "name": "#%%\n"
    }
   },
   "outputs": [
    {
     "name": "stdout",
     "output_type": "stream",
     "text": [
      "Found 404 images belonging to 5 classes.\n"
     ]
    },
    {
     "name": "stderr",
     "output_type": "stream",
     "text": [
      "  0%|                                                    | 0/13 [00:00<?, ?it/s]2023-05-01 18:32:30.653347: I tensorflow/core/common_runtime/executor.cc:1197] [/device:CPU:0] (DEBUG INFO) Executor start aborting (this does not indicate an error and you can ignore this message): INVALID_ARGUMENT: You must feed a value for placeholder tensor 'Placeholder/_0' with dtype float and shape [32,224,224,3]\n",
      "\t [[{{node Placeholder/_0}}]]\n",
      "  8%|███▍                                        | 1/13 [00:02<00:25,  2.11s/it]2023-05-01 18:32:32.722376: I tensorflow/core/common_runtime/executor.cc:1197] [/device:CPU:0] (DEBUG INFO) Executor start aborting (this does not indicate an error and you can ignore this message): INVALID_ARGUMENT: You must feed a value for placeholder tensor 'Placeholder/_0' with dtype float and shape [32,224,224,3]\n",
      "\t [[{{node Placeholder/_0}}]]\n",
      " 15%|██████▊                                     | 2/13 [00:03<00:21,  1.98s/it]2023-05-01 18:32:34.572668: I tensorflow/core/common_runtime/executor.cc:1197] [/device:CPU:0] (DEBUG INFO) Executor start aborting (this does not indicate an error and you can ignore this message): INVALID_ARGUMENT: You must feed a value for placeholder tensor 'Placeholder/_0' with dtype float and shape [32,224,224,3]\n",
      "\t [[{{node Placeholder/_0}}]]\n",
      " 23%|██████████▏                                 | 3/13 [00:06<00:20,  2.01s/it]2023-05-01 18:32:36.684737: I tensorflow/core/common_runtime/executor.cc:1197] [/device:CPU:0] (DEBUG INFO) Executor start aborting (this does not indicate an error and you can ignore this message): INVALID_ARGUMENT: You must feed a value for placeholder tensor 'Placeholder/_0' with dtype float and shape [32,224,224,3]\n",
      "\t [[{{node Placeholder/_0}}]]\n",
      " 31%|█████████████▌                              | 4/13 [00:08<00:18,  2.04s/it]2023-05-01 18:32:38.741263: I tensorflow/core/common_runtime/executor.cc:1197] [/device:CPU:0] (DEBUG INFO) Executor start aborting (this does not indicate an error and you can ignore this message): INVALID_ARGUMENT: You must feed a value for placeholder tensor 'Placeholder/_0' with dtype float and shape [32,224,224,3]\n",
      "\t [[{{node Placeholder/_0}}]]\n",
      " 38%|████████████████▉                           | 5/13 [00:10<00:15,  2.00s/it]2023-05-01 18:32:40.603801: I tensorflow/core/common_runtime/executor.cc:1197] [/device:CPU:0] (DEBUG INFO) Executor start aborting (this does not indicate an error and you can ignore this message): INVALID_ARGUMENT: You must feed a value for placeholder tensor 'Placeholder/_0' with dtype float and shape [32,224,224,3]\n",
      "\t [[{{node Placeholder/_0}}]]\n",
      " 46%|████████████████████▎                       | 6/13 [00:11<00:13,  1.95s/it]2023-05-01 18:32:42.442183: I tensorflow/core/common_runtime/executor.cc:1197] [/device:CPU:0] (DEBUG INFO) Executor start aborting (this does not indicate an error and you can ignore this message): INVALID_ARGUMENT: You must feed a value for placeholder tensor 'Placeholder/_0' with dtype float and shape [32,224,224,3]\n",
      "\t [[{{node Placeholder/_0}}]]\n",
      " 54%|███████████████████████▋                    | 7/13 [00:13<00:11,  1.98s/it]2023-05-01 18:32:44.549069: I tensorflow/core/common_runtime/executor.cc:1197] [/device:CPU:0] (DEBUG INFO) Executor start aborting (this does not indicate an error and you can ignore this message): INVALID_ARGUMENT: You must feed a value for placeholder tensor 'Placeholder/_0' with dtype float and shape [32,224,224,3]\n",
      "\t [[{{node Placeholder/_0}}]]\n",
      " 62%|███████████████████████████                 | 8/13 [00:15<00:09,  1.99s/it]2023-05-01 18:32:46.572886: I tensorflow/core/common_runtime/executor.cc:1197] [/device:CPU:0] (DEBUG INFO) Executor start aborting (this does not indicate an error and you can ignore this message): INVALID_ARGUMENT: You must feed a value for placeholder tensor 'Placeholder/_0' with dtype float and shape [32,224,224,3]\n",
      "\t [[{{node Placeholder/_0}}]]\n",
      " 69%|██████████████████████████████▍             | 9/13 [00:18<00:08,  2.07s/it]2023-05-01 18:32:48.786874: I tensorflow/core/common_runtime/executor.cc:1197] [/device:CPU:0] (DEBUG INFO) Executor start aborting (this does not indicate an error and you can ignore this message): INVALID_ARGUMENT: You must feed a value for placeholder tensor 'Placeholder/_0' with dtype float and shape [32,224,224,3]\n",
      "\t [[{{node Placeholder/_0}}]]\n",
      " 77%|█████████████████████████████████          | 10/13 [00:20<00:06,  2.03s/it]2023-05-01 18:32:50.725673: I tensorflow/core/common_runtime/executor.cc:1197] [/device:CPU:0] (DEBUG INFO) Executor start aborting (this does not indicate an error and you can ignore this message): INVALID_ARGUMENT: You must feed a value for placeholder tensor 'Placeholder/_0' with dtype float and shape [32,224,224,3]\n",
      "\t [[{{node Placeholder/_0}}]]\n",
      " 85%|████████████████████████████████████▍      | 11/13 [00:21<00:03,  1.96s/it]2023-05-01 18:32:52.567482: I tensorflow/core/common_runtime/executor.cc:1197] [/device:CPU:0] (DEBUG INFO) Executor start aborting (this does not indicate an error and you can ignore this message): INVALID_ARGUMENT: You must feed a value for placeholder tensor 'Placeholder/_0' with dtype float and shape [32,224,224,3]\n",
      "\t [[{{node Placeholder/_0}}]]\n",
      " 92%|███████████████████████████████████████▋   | 12/13 [00:24<00:01,  2.00s/it]2023-05-01 18:32:54.571822: I tensorflow/core/common_runtime/executor.cc:1197] [/device:CPU:0] (DEBUG INFO) Executor start aborting (this does not indicate an error and you can ignore this message): INVALID_ARGUMENT: You must feed a value for placeholder tensor 'Placeholder/_0' with dtype float and shape [20,224,224,3]\n",
      "\t [[{{node Placeholder/_0}}]]\n",
      "100%|███████████████████████████████████████████| 13/13 [00:25<00:00,  1.95s/it]\n"
     ]
    },
    {
     "name": "stdout",
     "output_type": "stream",
     "text": [
      "[[69.  0.  2.  4.  9.]\n",
      " [ 8. 80.  5. 10. 15.]\n",
      " [ 2.  0. 64. 48.  5.]\n",
      " [ 2.  0.  7. 15.  0.]\n",
      " [ 0.  1.  2.  4. 52.]]\n"
     ]
    },
    {
     "data": {
      "image/png": "[encoded data removed]",
      "text/plain": [
       "<Figure size 4000x2000 with 2 Axes>"
      ]
     },
     "metadata": {},
     "output_type": "display_data"
    },
    {
     "name": "stdout",
     "output_type": "stream",
     "text": [
      "the model accuracy is  0.693069306930693\n",
      "+----------------+-----------+--------+-------------+-------+\n",
      "|                | Precision | Recall | Specificity |   F1  |\n",
      "+----------------+-----------+--------+-------------+-------+\n",
      "|  bart_simpson  |   0.821   | 0.852  |    0.954    | 0.836 |\n",
      "| homer_simpson  |   0.678   | 0.988  |    0.882    | 0.804 |\n",
      "|  lisa_simpson  |   0.538   |  0.8   |     0.83    | 0.643 |\n",
      "| maggie_simpson |   0.625   | 0.185  |    0.972    | 0.285 |\n",
      "| marge_simpson  |   0.881   | 0.642  |    0.978    | 0.743 |\n",
      "+----------------+-----------+--------+-------------+-------+\n"
     ]
    }
   ],
   "source": [
    "\n",
    "from tqdm import tqdm\n",
    "def pre_function(img):\n",
    "    # img = im.open('test.jpg')\n",
    "    # img = np.array(img).astype(np.float32)\n",
    "    img = img / 255.\n",
    "    img = (img - 0.5) * 2.0\n",
    "    return img\n",
    "\n",
    "\n",
    "# data generator with data augmentation\n",
    "validation_image_generator = ImageDataGenerator(preprocessing_function=pre_function)\n",
    "\n",
    "val_data_gen = validation_image_generator.flow_from_directory(directory=validation_root,\n",
    "                                                              batch_size=batch_size,\n",
    "                                                              shuffle=False,\n",
    "                                                              target_size=(IMG_HEIGHT, IMG_WIDTH),\n",
    "                                                              class_mode='categorical')\n",
    "# img, _ = next(train_data_gen)\n",
    "total_val = val_data_gen.n\n",
    "confusion = ConfusionMatrix(num_classes=NB_CLASS, labels=labels)\n",
    "\n",
    "# validate\n",
    "for step in tqdm(range(math.ceil(total_val / batch_size))):\n",
    "    val_images, val_labels = next(val_data_gen)\n",
    "    results = from_model.predict_on_batch(val_images)\n",
    "    results = tf.keras.layers.Softmax()(results).numpy()\n",
    "    results = np.argmax(results, axis=-1)\n",
    "    labels1 = np.argmax(val_labels, axis=-1)\n",
    "    confusion.update(results, labels1)\n",
    "confusion.plot()\n",
    "confusion.summary()"
   ]
  },
  {
   "cell_type": "code",
   "execution_count": 360,
   "id": "06cb6927",
   "metadata": {
    "pycharm": {
     "name": "#%%\n"
    }
   },
   "outputs": [
    {
     "name": "stdout",
     "output_type": "stream",
     "text": [
      "5\n",
      "['bart_simpson', 'homer_simpson', 'lisa_simpson', 'maggie_simpson', 'marge_simpson']\n",
      "5\n"
     ]
    }
   ],
   "source": [
    "print(NB_CLASS)\n",
    "print(labels)\n",
    "print(len(labels))"
   ]
  },
  {
   "cell_type": "code",
   "execution_count": null,
   "id": "84c585c5",
   "metadata": {
    "pycharm": {
     "name": "#%%\n"
    }
   },
   "outputs": [],
   "source": []
  }
 ],
 "metadata": {
  "kernelspec": {
   "display_name": "Python 3 (ipykernel)",
   "language": "python",
   "name": "python3"
  },
  "language_info": {
   "codemirror_mode": {
    "name": "ipython",
    "version": 3
   },
   "file_extension": ".py",
   "mimetype": "text/x-python",
   "name": "python",
   "nbconvert_exporter": "python",
   "pygments_lexer": "ipython3",
   "version": "3.11.9"
  }
 },
 "nbformat": 4,
 "nbformat_minor": 5
}